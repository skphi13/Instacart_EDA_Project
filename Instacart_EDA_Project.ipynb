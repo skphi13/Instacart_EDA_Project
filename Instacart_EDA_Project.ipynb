{
 "cells": [
  {
   "cell_type": "markdown",
   "id": "3ea697ee",
   "metadata": {},
   "source": [
    "## Instacart Data Analysis\n",
    "\n",
    "<p>Instacart is a grocery delivery platform where customers can place a grocery order and have it delivered to them, similar to how Uber Eats and Door Dash work. This particular dataset was publicly released by Instacart in 2017 for a Kaggle competition. Although the original dataset is no longer available on the Instacart website, we’ve created CSV files that contain a modified version of that data. The goal for this project is to clean up all the data and see the habits of instacart shoppers.<p>\n",
    "    \n",
    "### Data Used\n",
    "    \n",
    "- instacart_orders.csv: each row corresponds to one order on the Instacart app\n",
    "        `order_id`: ID number that uniquely identifies each order\n",
    "        `user_id`: ID number that uniquely identifies each customer account\n",
    "        `order_number`: the number of times this customer has placed an order\n",
    "        `order_dow`: day of the week that the order placed (which day is 0 is uncertain)\n",
    "        `order_hour_of_day`: hour of the day that the order was placed\n",
    "        `days_since_prior_order`: number of days since this customer placed their previous order\n",
    "\n",
    "- products.csv: each row corresponds to a unique product that customers can buy\n",
    "        `product_id`: ID number that uniquely identifies each product\n",
    "        `product_name`: name of the product\n",
    "        `aisle_id`: ID number that uniquely identifies each grocery aisle category\n",
    "        `department_id`: ID number that uniquely identifies each grocery department category\n",
    "    \n",
    "- order_products.csv: each row corresponds to one item placed in an order\n",
    "        `order_id`: ID number that uniquely identifies each order\n",
    "        `product_id`: ID number that uniquely identifies each product\n",
    "        `add_to_cart_order`: the sequential order in which each item was placed in the cart\n",
    "        `reordered`: 0 if the customer has never ordered this product before, 1 if they have\n",
    "    \n",
    "- aisles.csv\n",
    "        `aisle_id`: ID number that uniquely identifies each grocery aisle category\n",
    "        `aisle`: name of the aisle\n",
    "    \n",
    "- departments.csv\n",
    "        `department_id`: ID number that uniquely identifies each grocery department category\n",
    "        `department`: name of the department\n",
    "    \n"
   ]
  },
  {
   "cell_type": "code",
   "execution_count": 1,
   "id": "fbf1adab",
   "metadata": {},
   "outputs": [
    {
     "name": "stdout",
     "output_type": "stream",
     "text": [
      "<class 'pandas.core.frame.DataFrame'>\n",
      "RangeIndex: 478967 entries, 0 to 478966\n",
      "Data columns (total 6 columns):\n",
      " #   Column                  Non-Null Count   Dtype  \n",
      "---  ------                  --------------   -----  \n",
      " 0   order_id                478967 non-null  int64  \n",
      " 1   user_id                 478967 non-null  int64  \n",
      " 2   order_number            478967 non-null  int64  \n",
      " 3   order_dow               478967 non-null  int64  \n",
      " 4   order_hour_of_day       478967 non-null  int64  \n",
      " 5   days_since_prior_order  450148 non-null  float64\n",
      "dtypes: float64(1), int64(5)\n",
      "memory usage: 21.9 MB\n"
     ]
    }
   ],
   "source": [
    "import pandas as pd\n",
    "import numpy as np\n",
    "\n",
    "orders = pd.read_csv('/datasets/instacart_orders.csv', sep=';')\n",
    "\n",
    "orders.info()\n"
   ]
  },
  {
   "cell_type": "code",
   "execution_count": 2,
   "id": "ad36396d",
   "metadata": {},
   "outputs": [
    {
     "name": "stdout",
     "output_type": "stream",
     "text": [
      "<class 'pandas.core.frame.DataFrame'>\n",
      "RangeIndex: 49694 entries, 0 to 49693\n",
      "Data columns (total 4 columns):\n",
      " #   Column         Non-Null Count  Dtype \n",
      "---  ------         --------------  ----- \n",
      " 0   product_id     49694 non-null  int64 \n",
      " 1   product_name   48436 non-null  object\n",
      " 2   aisle_id       49694 non-null  int64 \n",
      " 3   department_id  49694 non-null  int64 \n",
      "dtypes: int64(3), object(1)\n",
      "memory usage: 1.5+ MB\n"
     ]
    }
   ],
   "source": [
    "products = pd.read_csv('/datasets/products.csv', sep=';')\n",
    "\n",
    "products.info()"
   ]
  },
  {
   "cell_type": "code",
   "execution_count": 3,
   "id": "ad6a1efa",
   "metadata": {},
   "outputs": [
    {
     "name": "stdout",
     "output_type": "stream",
     "text": [
      "<class 'pandas.core.frame.DataFrame'>\n",
      "RangeIndex: 21 entries, 0 to 20\n",
      "Data columns (total 2 columns):\n",
      " #   Column         Non-Null Count  Dtype \n",
      "---  ------         --------------  ----- \n",
      " 0   department_id  21 non-null     int64 \n",
      " 1   department     21 non-null     object\n",
      "dtypes: int64(1), object(1)\n",
      "memory usage: 464.0+ bytes\n"
     ]
    }
   ],
   "source": [
    "departments = pd.read_csv('/datasets/departments.csv', sep=';')\n",
    "\n",
    "departments.info()"
   ]
  },
  {
   "cell_type": "code",
   "execution_count": 4,
   "id": "5130e05e",
   "metadata": {},
   "outputs": [
    {
     "name": "stdout",
     "output_type": "stream",
     "text": [
      "<class 'pandas.core.frame.DataFrame'>\n",
      "RangeIndex: 134 entries, 0 to 133\n",
      "Data columns (total 2 columns):\n",
      " #   Column    Non-Null Count  Dtype \n",
      "---  ------    --------------  ----- \n",
      " 0   aisle_id  134 non-null    int64 \n",
      " 1   aisle     134 non-null    object\n",
      "dtypes: int64(1), object(1)\n",
      "memory usage: 2.2+ KB\n"
     ]
    }
   ],
   "source": [
    "aisles = pd.read_csv('/datasets/aisles.csv', sep=';')\n",
    "\n",
    "aisles.info()"
   ]
  },
  {
   "cell_type": "code",
   "execution_count": 5,
   "id": "d8370c05",
   "metadata": {},
   "outputs": [
    {
     "name": "stdout",
     "output_type": "stream",
     "text": [
      "<class 'pandas.core.frame.DataFrame'>\n",
      "RangeIndex: 4545007 entries, 0 to 4545006\n",
      "Data columns (total 4 columns):\n",
      " #   Column             Dtype  \n",
      "---  ------             -----  \n",
      " 0   order_id           int64  \n",
      " 1   product_id         int64  \n",
      " 2   add_to_cart_order  float64\n",
      " 3   reordered          int64  \n",
      "dtypes: float64(1), int64(3)\n",
      "memory usage: 138.7 MB\n"
     ]
    }
   ],
   "source": [
    "order_products = pd.read_csv('/datasets/order_products.csv', sep=';')\n",
    "\n",
    "order_products.info()"
   ]
  },
  {
   "cell_type": "markdown",
   "id": "5ea1e6ba",
   "metadata": {},
   "source": [
    "Loaded the necessary files for each dictionary to their respected variables. \n",
    "\n",
    "Run the command `inf0()` to see what argument I need to add to read the files correctly.\n"
   ]
  },
  {
   "cell_type": "code",
   "execution_count": 6,
   "id": "6fc81694",
   "metadata": {},
   "outputs": [
    {
     "data": {
      "text/html": [
       "<div>\n",
       "<style scoped>\n",
       "    .dataframe tbody tr th:only-of-type {\n",
       "        vertical-align: middle;\n",
       "    }\n",
       "\n",
       "    .dataframe tbody tr th {\n",
       "        vertical-align: top;\n",
       "    }\n",
       "\n",
       "    .dataframe thead th {\n",
       "        text-align: right;\n",
       "    }\n",
       "</style>\n",
       "<table border=\"1\" class=\"dataframe\">\n",
       "  <thead>\n",
       "    <tr style=\"text-align: right;\">\n",
       "      <th></th>\n",
       "      <th>order_id</th>\n",
       "      <th>user_id</th>\n",
       "      <th>order_number</th>\n",
       "      <th>order_dow</th>\n",
       "      <th>order_hour_of_day</th>\n",
       "      <th>days_since_prior_order</th>\n",
       "    </tr>\n",
       "  </thead>\n",
       "  <tbody>\n",
       "    <tr>\n",
       "      <th>0</th>\n",
       "      <td>1515936</td>\n",
       "      <td>183418</td>\n",
       "      <td>11</td>\n",
       "      <td>6</td>\n",
       "      <td>13</td>\n",
       "      <td>30.0</td>\n",
       "    </tr>\n",
       "    <tr>\n",
       "      <th>1</th>\n",
       "      <td>1690866</td>\n",
       "      <td>163593</td>\n",
       "      <td>5</td>\n",
       "      <td>5</td>\n",
       "      <td>12</td>\n",
       "      <td>9.0</td>\n",
       "    </tr>\n",
       "    <tr>\n",
       "      <th>2</th>\n",
       "      <td>1454967</td>\n",
       "      <td>39980</td>\n",
       "      <td>4</td>\n",
       "      <td>5</td>\n",
       "      <td>19</td>\n",
       "      <td>2.0</td>\n",
       "    </tr>\n",
       "    <tr>\n",
       "      <th>3</th>\n",
       "      <td>1768857</td>\n",
       "      <td>82516</td>\n",
       "      <td>56</td>\n",
       "      <td>0</td>\n",
       "      <td>20</td>\n",
       "      <td>10.0</td>\n",
       "    </tr>\n",
       "    <tr>\n",
       "      <th>4</th>\n",
       "      <td>3007858</td>\n",
       "      <td>196724</td>\n",
       "      <td>2</td>\n",
       "      <td>4</td>\n",
       "      <td>12</td>\n",
       "      <td>17.0</td>\n",
       "    </tr>\n",
       "  </tbody>\n",
       "</table>\n",
       "</div>"
      ],
      "text/plain": [
       "   order_id  user_id  order_number  order_dow  order_hour_of_day  \\\n",
       "0   1515936   183418            11          6                 13   \n",
       "1   1690866   163593             5          5                 12   \n",
       "2   1454967    39980             4          5                 19   \n",
       "3   1768857    82516            56          0                 20   \n",
       "4   3007858   196724             2          4                 12   \n",
       "\n",
       "   days_since_prior_order  \n",
       "0                    30.0  \n",
       "1                     9.0  \n",
       "2                     2.0  \n",
       "3                    10.0  \n",
       "4                    17.0  "
      ]
     },
     "execution_count": 6,
     "metadata": {},
     "output_type": "execute_result"
    }
   ],
   "source": [
    "orders.head()\n",
    "\n",
    "\n",
    "\n"
   ]
  },
  {
   "cell_type": "code",
   "execution_count": 7,
   "id": "b31b8ce3",
   "metadata": {},
   "outputs": [
    {
     "data": {
      "text/html": [
       "<div>\n",
       "<style scoped>\n",
       "    .dataframe tbody tr th:only-of-type {\n",
       "        vertical-align: middle;\n",
       "    }\n",
       "\n",
       "    .dataframe tbody tr th {\n",
       "        vertical-align: top;\n",
       "    }\n",
       "\n",
       "    .dataframe thead th {\n",
       "        text-align: right;\n",
       "    }\n",
       "</style>\n",
       "<table border=\"1\" class=\"dataframe\">\n",
       "  <thead>\n",
       "    <tr style=\"text-align: right;\">\n",
       "      <th></th>\n",
       "      <th>product_id</th>\n",
       "      <th>product_name</th>\n",
       "      <th>aisle_id</th>\n",
       "      <th>department_id</th>\n",
       "    </tr>\n",
       "  </thead>\n",
       "  <tbody>\n",
       "    <tr>\n",
       "      <th>0</th>\n",
       "      <td>1</td>\n",
       "      <td>Chocolate Sandwich Cookies</td>\n",
       "      <td>61</td>\n",
       "      <td>19</td>\n",
       "    </tr>\n",
       "    <tr>\n",
       "      <th>1</th>\n",
       "      <td>2</td>\n",
       "      <td>All-Seasons Salt</td>\n",
       "      <td>104</td>\n",
       "      <td>13</td>\n",
       "    </tr>\n",
       "    <tr>\n",
       "      <th>2</th>\n",
       "      <td>3</td>\n",
       "      <td>Robust Golden Unsweetened Oolong Tea</td>\n",
       "      <td>94</td>\n",
       "      <td>7</td>\n",
       "    </tr>\n",
       "    <tr>\n",
       "      <th>3</th>\n",
       "      <td>4</td>\n",
       "      <td>Smart Ones Classic Favorites Mini Rigatoni Wit...</td>\n",
       "      <td>38</td>\n",
       "      <td>1</td>\n",
       "    </tr>\n",
       "    <tr>\n",
       "      <th>4</th>\n",
       "      <td>5</td>\n",
       "      <td>Green Chile Anytime Sauce</td>\n",
       "      <td>5</td>\n",
       "      <td>13</td>\n",
       "    </tr>\n",
       "  </tbody>\n",
       "</table>\n",
       "</div>"
      ],
      "text/plain": [
       "   product_id                                       product_name  aisle_id  \\\n",
       "0           1                         Chocolate Sandwich Cookies        61   \n",
       "1           2                                   All-Seasons Salt       104   \n",
       "2           3               Robust Golden Unsweetened Oolong Tea        94   \n",
       "3           4  Smart Ones Classic Favorites Mini Rigatoni Wit...        38   \n",
       "4           5                          Green Chile Anytime Sauce         5   \n",
       "\n",
       "   department_id  \n",
       "0             19  \n",
       "1             13  \n",
       "2              7  \n",
       "3              1  \n",
       "4             13  "
      ]
     },
     "execution_count": 7,
     "metadata": {},
     "output_type": "execute_result"
    }
   ],
   "source": [
    "products.head()"
   ]
  },
  {
   "cell_type": "code",
   "execution_count": 8,
   "id": "2bf5b546",
   "metadata": {},
   "outputs": [
    {
     "data": {
      "text/html": [
       "<div>\n",
       "<style scoped>\n",
       "    .dataframe tbody tr th:only-of-type {\n",
       "        vertical-align: middle;\n",
       "    }\n",
       "\n",
       "    .dataframe tbody tr th {\n",
       "        vertical-align: top;\n",
       "    }\n",
       "\n",
       "    .dataframe thead th {\n",
       "        text-align: right;\n",
       "    }\n",
       "</style>\n",
       "<table border=\"1\" class=\"dataframe\">\n",
       "  <thead>\n",
       "    <tr style=\"text-align: right;\">\n",
       "      <th></th>\n",
       "      <th>department_id</th>\n",
       "      <th>department</th>\n",
       "    </tr>\n",
       "  </thead>\n",
       "  <tbody>\n",
       "    <tr>\n",
       "      <th>0</th>\n",
       "      <td>1</td>\n",
       "      <td>frozen</td>\n",
       "    </tr>\n",
       "    <tr>\n",
       "      <th>1</th>\n",
       "      <td>2</td>\n",
       "      <td>other</td>\n",
       "    </tr>\n",
       "    <tr>\n",
       "      <th>2</th>\n",
       "      <td>3</td>\n",
       "      <td>bakery</td>\n",
       "    </tr>\n",
       "    <tr>\n",
       "      <th>3</th>\n",
       "      <td>4</td>\n",
       "      <td>produce</td>\n",
       "    </tr>\n",
       "    <tr>\n",
       "      <th>4</th>\n",
       "      <td>5</td>\n",
       "      <td>alcohol</td>\n",
       "    </tr>\n",
       "  </tbody>\n",
       "</table>\n",
       "</div>"
      ],
      "text/plain": [
       "   department_id department\n",
       "0              1     frozen\n",
       "1              2      other\n",
       "2              3     bakery\n",
       "3              4    produce\n",
       "4              5    alcohol"
      ]
     },
     "execution_count": 8,
     "metadata": {},
     "output_type": "execute_result"
    }
   ],
   "source": [
    "departments.head()"
   ]
  },
  {
   "cell_type": "code",
   "execution_count": 9,
   "id": "bba9ded8",
   "metadata": {},
   "outputs": [
    {
     "data": {
      "text/html": [
       "<div>\n",
       "<style scoped>\n",
       "    .dataframe tbody tr th:only-of-type {\n",
       "        vertical-align: middle;\n",
       "    }\n",
       "\n",
       "    .dataframe tbody tr th {\n",
       "        vertical-align: top;\n",
       "    }\n",
       "\n",
       "    .dataframe thead th {\n",
       "        text-align: right;\n",
       "    }\n",
       "</style>\n",
       "<table border=\"1\" class=\"dataframe\">\n",
       "  <thead>\n",
       "    <tr style=\"text-align: right;\">\n",
       "      <th></th>\n",
       "      <th>aisle_id</th>\n",
       "      <th>aisle</th>\n",
       "    </tr>\n",
       "  </thead>\n",
       "  <tbody>\n",
       "    <tr>\n",
       "      <th>0</th>\n",
       "      <td>1</td>\n",
       "      <td>prepared soups salads</td>\n",
       "    </tr>\n",
       "    <tr>\n",
       "      <th>1</th>\n",
       "      <td>2</td>\n",
       "      <td>specialty cheeses</td>\n",
       "    </tr>\n",
       "    <tr>\n",
       "      <th>2</th>\n",
       "      <td>3</td>\n",
       "      <td>energy granola bars</td>\n",
       "    </tr>\n",
       "    <tr>\n",
       "      <th>3</th>\n",
       "      <td>4</td>\n",
       "      <td>instant foods</td>\n",
       "    </tr>\n",
       "    <tr>\n",
       "      <th>4</th>\n",
       "      <td>5</td>\n",
       "      <td>marinades meat preparation</td>\n",
       "    </tr>\n",
       "  </tbody>\n",
       "</table>\n",
       "</div>"
      ],
      "text/plain": [
       "   aisle_id                       aisle\n",
       "0         1       prepared soups salads\n",
       "1         2           specialty cheeses\n",
       "2         3         energy granola bars\n",
       "3         4               instant foods\n",
       "4         5  marinades meat preparation"
      ]
     },
     "execution_count": 9,
     "metadata": {},
     "output_type": "execute_result"
    }
   ],
   "source": [
    "aisles.head()"
   ]
  },
  {
   "cell_type": "code",
   "execution_count": 10,
   "id": "cbce3a68",
   "metadata": {},
   "outputs": [
    {
     "data": {
      "text/html": [
       "<div>\n",
       "<style scoped>\n",
       "    .dataframe tbody tr th:only-of-type {\n",
       "        vertical-align: middle;\n",
       "    }\n",
       "\n",
       "    .dataframe tbody tr th {\n",
       "        vertical-align: top;\n",
       "    }\n",
       "\n",
       "    .dataframe thead th {\n",
       "        text-align: right;\n",
       "    }\n",
       "</style>\n",
       "<table border=\"1\" class=\"dataframe\">\n",
       "  <thead>\n",
       "    <tr style=\"text-align: right;\">\n",
       "      <th></th>\n",
       "      <th>order_id</th>\n",
       "      <th>product_id</th>\n",
       "      <th>add_to_cart_order</th>\n",
       "      <th>reordered</th>\n",
       "    </tr>\n",
       "  </thead>\n",
       "  <tbody>\n",
       "    <tr>\n",
       "      <th>0</th>\n",
       "      <td>2141543</td>\n",
       "      <td>11440</td>\n",
       "      <td>17.0</td>\n",
       "      <td>0</td>\n",
       "    </tr>\n",
       "    <tr>\n",
       "      <th>1</th>\n",
       "      <td>567889</td>\n",
       "      <td>1560</td>\n",
       "      <td>1.0</td>\n",
       "      <td>1</td>\n",
       "    </tr>\n",
       "    <tr>\n",
       "      <th>2</th>\n",
       "      <td>2261212</td>\n",
       "      <td>26683</td>\n",
       "      <td>1.0</td>\n",
       "      <td>1</td>\n",
       "    </tr>\n",
       "    <tr>\n",
       "      <th>3</th>\n",
       "      <td>491251</td>\n",
       "      <td>8670</td>\n",
       "      <td>35.0</td>\n",
       "      <td>1</td>\n",
       "    </tr>\n",
       "    <tr>\n",
       "      <th>4</th>\n",
       "      <td>2571142</td>\n",
       "      <td>1940</td>\n",
       "      <td>5.0</td>\n",
       "      <td>1</td>\n",
       "    </tr>\n",
       "  </tbody>\n",
       "</table>\n",
       "</div>"
      ],
      "text/plain": [
       "   order_id  product_id  add_to_cart_order  reordered\n",
       "0   2141543       11440               17.0          0\n",
       "1    567889        1560                1.0          1\n",
       "2   2261212       26683                1.0          1\n",
       "3    491251        8670               35.0          1\n",
       "4   2571142        1940                5.0          1"
      ]
     },
     "execution_count": 10,
     "metadata": {},
     "output_type": "execute_result"
    }
   ],
   "source": [
    "order_products.head()"
   ]
  },
  {
   "cell_type": "markdown",
   "id": "1b765f4e",
   "metadata": {},
   "source": [
    "#### Summary\n",
    "\n",
    "<p>After loading the data and looking at the info() and head(), the data doesn't seem to be missing any values right now just looking at the 1st five rows of each data set. We will still need to check for duplicates and missing values in depth to be sure.<p>"
   ]
  },
  {
   "cell_type": "markdown",
   "id": "07357848-dc64-4156-9cc3-01ff4365226d",
   "metadata": {},
   "source": [
    "## Find and remove duplicate values (and describe why you make your choices)"
   ]
  },
  {
   "cell_type": "markdown",
   "id": "f179f0a9",
   "metadata": {},
   "source": [
    "### `orders` data frame"
   ]
  },
  {
   "cell_type": "code",
   "execution_count": 11,
   "id": "b99297a5-405a-463d-8535-9adc3da4ad74",
   "metadata": {},
   "outputs": [
    {
     "data": {
      "text/html": [
       "<div>\n",
       "<style scoped>\n",
       "    .dataframe tbody tr th:only-of-type {\n",
       "        vertical-align: middle;\n",
       "    }\n",
       "\n",
       "    .dataframe tbody tr th {\n",
       "        vertical-align: top;\n",
       "    }\n",
       "\n",
       "    .dataframe thead th {\n",
       "        text-align: right;\n",
       "    }\n",
       "</style>\n",
       "<table border=\"1\" class=\"dataframe\">\n",
       "  <thead>\n",
       "    <tr style=\"text-align: right;\">\n",
       "      <th></th>\n",
       "      <th>order_id</th>\n",
       "      <th>user_id</th>\n",
       "      <th>order_number</th>\n",
       "      <th>order_dow</th>\n",
       "      <th>order_hour_of_day</th>\n",
       "      <th>days_since_prior_order</th>\n",
       "    </tr>\n",
       "  </thead>\n",
       "  <tbody>\n",
       "    <tr>\n",
       "      <th>145574</th>\n",
       "      <td>794638</td>\n",
       "      <td>50898</td>\n",
       "      <td>24</td>\n",
       "      <td>3</td>\n",
       "      <td>2</td>\n",
       "      <td>2.0</td>\n",
       "    </tr>\n",
       "    <tr>\n",
       "      <th>223105</th>\n",
       "      <td>2160484</td>\n",
       "      <td>107525</td>\n",
       "      <td>16</td>\n",
       "      <td>3</td>\n",
       "      <td>2</td>\n",
       "      <td>30.0</td>\n",
       "    </tr>\n",
       "    <tr>\n",
       "      <th>230807</th>\n",
       "      <td>1918001</td>\n",
       "      <td>188546</td>\n",
       "      <td>14</td>\n",
       "      <td>3</td>\n",
       "      <td>2</td>\n",
       "      <td>16.0</td>\n",
       "    </tr>\n",
       "    <tr>\n",
       "      <th>266232</th>\n",
       "      <td>1782114</td>\n",
       "      <td>106752</td>\n",
       "      <td>1</td>\n",
       "      <td>3</td>\n",
       "      <td>2</td>\n",
       "      <td>NaN</td>\n",
       "    </tr>\n",
       "    <tr>\n",
       "      <th>273805</th>\n",
       "      <td>1112182</td>\n",
       "      <td>202304</td>\n",
       "      <td>84</td>\n",
       "      <td>3</td>\n",
       "      <td>2</td>\n",
       "      <td>6.0</td>\n",
       "    </tr>\n",
       "    <tr>\n",
       "      <th>284038</th>\n",
       "      <td>2845099</td>\n",
       "      <td>31189</td>\n",
       "      <td>11</td>\n",
       "      <td>3</td>\n",
       "      <td>2</td>\n",
       "      <td>7.0</td>\n",
       "    </tr>\n",
       "    <tr>\n",
       "      <th>311713</th>\n",
       "      <td>1021560</td>\n",
       "      <td>53767</td>\n",
       "      <td>3</td>\n",
       "      <td>3</td>\n",
       "      <td>2</td>\n",
       "      <td>9.0</td>\n",
       "    </tr>\n",
       "    <tr>\n",
       "      <th>321100</th>\n",
       "      <td>408114</td>\n",
       "      <td>68324</td>\n",
       "      <td>4</td>\n",
       "      <td>3</td>\n",
       "      <td>2</td>\n",
       "      <td>18.0</td>\n",
       "    </tr>\n",
       "    <tr>\n",
       "      <th>323900</th>\n",
       "      <td>1919531</td>\n",
       "      <td>191501</td>\n",
       "      <td>32</td>\n",
       "      <td>3</td>\n",
       "      <td>2</td>\n",
       "      <td>7.0</td>\n",
       "    </tr>\n",
       "    <tr>\n",
       "      <th>345917</th>\n",
       "      <td>2232988</td>\n",
       "      <td>82565</td>\n",
       "      <td>1</td>\n",
       "      <td>3</td>\n",
       "      <td>2</td>\n",
       "      <td>NaN</td>\n",
       "    </tr>\n",
       "    <tr>\n",
       "      <th>371905</th>\n",
       "      <td>391768</td>\n",
       "      <td>57671</td>\n",
       "      <td>19</td>\n",
       "      <td>3</td>\n",
       "      <td>2</td>\n",
       "      <td>10.0</td>\n",
       "    </tr>\n",
       "    <tr>\n",
       "      <th>394347</th>\n",
       "      <td>467134</td>\n",
       "      <td>63189</td>\n",
       "      <td>21</td>\n",
       "      <td>3</td>\n",
       "      <td>2</td>\n",
       "      <td>2.0</td>\n",
       "    </tr>\n",
       "    <tr>\n",
       "      <th>411408</th>\n",
       "      <td>1286742</td>\n",
       "      <td>183220</td>\n",
       "      <td>48</td>\n",
       "      <td>3</td>\n",
       "      <td>2</td>\n",
       "      <td>4.0</td>\n",
       "    </tr>\n",
       "    <tr>\n",
       "      <th>415163</th>\n",
       "      <td>2282673</td>\n",
       "      <td>86751</td>\n",
       "      <td>49</td>\n",
       "      <td>3</td>\n",
       "      <td>2</td>\n",
       "      <td>2.0</td>\n",
       "    </tr>\n",
       "    <tr>\n",
       "      <th>441599</th>\n",
       "      <td>2125197</td>\n",
       "      <td>14050</td>\n",
       "      <td>48</td>\n",
       "      <td>3</td>\n",
       "      <td>2</td>\n",
       "      <td>3.0</td>\n",
       "    </tr>\n",
       "  </tbody>\n",
       "</table>\n",
       "</div>"
      ],
      "text/plain": [
       "        order_id  user_id  order_number  order_dow  order_hour_of_day  \\\n",
       "145574    794638    50898            24          3                  2   \n",
       "223105   2160484   107525            16          3                  2   \n",
       "230807   1918001   188546            14          3                  2   \n",
       "266232   1782114   106752             1          3                  2   \n",
       "273805   1112182   202304            84          3                  2   \n",
       "284038   2845099    31189            11          3                  2   \n",
       "311713   1021560    53767             3          3                  2   \n",
       "321100    408114    68324             4          3                  2   \n",
       "323900   1919531   191501            32          3                  2   \n",
       "345917   2232988    82565             1          3                  2   \n",
       "371905    391768    57671            19          3                  2   \n",
       "394347    467134    63189            21          3                  2   \n",
       "411408   1286742   183220            48          3                  2   \n",
       "415163   2282673    86751            49          3                  2   \n",
       "441599   2125197    14050            48          3                  2   \n",
       "\n",
       "        days_since_prior_order  \n",
       "145574                     2.0  \n",
       "223105                    30.0  \n",
       "230807                    16.0  \n",
       "266232                     NaN  \n",
       "273805                     6.0  \n",
       "284038                     7.0  \n",
       "311713                     9.0  \n",
       "321100                    18.0  \n",
       "323900                     7.0  \n",
       "345917                     NaN  \n",
       "371905                    10.0  \n",
       "394347                     2.0  \n",
       "411408                     4.0  \n",
       "415163                     2.0  \n",
       "441599                     3.0  "
      ]
     },
     "execution_count": 11,
     "metadata": {},
     "output_type": "execute_result"
    }
   ],
   "source": [
    "# Check for duplicated orders\n",
    "duplicated_orders = orders[orders.duplicated()]\n",
    "\n",
    "duplicated_orders"
   ]
  },
  {
   "cell_type": "code",
   "execution_count": 12,
   "id": "0d44de5d",
   "metadata": {},
   "outputs": [
    {
     "data": {
      "text/html": [
       "<div>\n",
       "<style scoped>\n",
       "    .dataframe tbody tr th:only-of-type {\n",
       "        vertical-align: middle;\n",
       "    }\n",
       "\n",
       "    .dataframe tbody tr th {\n",
       "        vertical-align: top;\n",
       "    }\n",
       "\n",
       "    .dataframe thead th {\n",
       "        text-align: right;\n",
       "    }\n",
       "</style>\n",
       "<table border=\"1\" class=\"dataframe\">\n",
       "  <thead>\n",
       "    <tr style=\"text-align: right;\">\n",
       "      <th></th>\n",
       "      <th>order_id</th>\n",
       "      <th>user_id</th>\n",
       "      <th>order_number</th>\n",
       "      <th>order_dow</th>\n",
       "      <th>order_hour_of_day</th>\n",
       "      <th>days_since_prior_order</th>\n",
       "    </tr>\n",
       "  </thead>\n",
       "  <tbody>\n",
       "    <tr>\n",
       "      <th>4838</th>\n",
       "      <td>2766110</td>\n",
       "      <td>162084</td>\n",
       "      <td>41</td>\n",
       "      <td>3</td>\n",
       "      <td>2</td>\n",
       "      <td>16.0</td>\n",
       "    </tr>\n",
       "    <tr>\n",
       "      <th>5156</th>\n",
       "      <td>2190225</td>\n",
       "      <td>138285</td>\n",
       "      <td>18</td>\n",
       "      <td>3</td>\n",
       "      <td>2</td>\n",
       "      <td>11.0</td>\n",
       "    </tr>\n",
       "    <tr>\n",
       "      <th>15506</th>\n",
       "      <td>553049</td>\n",
       "      <td>58599</td>\n",
       "      <td>13</td>\n",
       "      <td>3</td>\n",
       "      <td>2</td>\n",
       "      <td>7.0</td>\n",
       "    </tr>\n",
       "    <tr>\n",
       "      <th>18420</th>\n",
       "      <td>382357</td>\n",
       "      <td>120200</td>\n",
       "      <td>19</td>\n",
       "      <td>3</td>\n",
       "      <td>2</td>\n",
       "      <td>11.0</td>\n",
       "    </tr>\n",
       "    <tr>\n",
       "      <th>24691</th>\n",
       "      <td>690242</td>\n",
       "      <td>77357</td>\n",
       "      <td>2</td>\n",
       "      <td>3</td>\n",
       "      <td>2</td>\n",
       "      <td>9.0</td>\n",
       "    </tr>\n",
       "    <tr>\n",
       "      <th>...</th>\n",
       "      <td>...</td>\n",
       "      <td>...</td>\n",
       "      <td>...</td>\n",
       "      <td>...</td>\n",
       "      <td>...</td>\n",
       "      <td>...</td>\n",
       "    </tr>\n",
       "    <tr>\n",
       "      <th>457013</th>\n",
       "      <td>3384021</td>\n",
       "      <td>14881</td>\n",
       "      <td>6</td>\n",
       "      <td>3</td>\n",
       "      <td>2</td>\n",
       "      <td>30.0</td>\n",
       "    </tr>\n",
       "    <tr>\n",
       "      <th>458816</th>\n",
       "      <td>910166</td>\n",
       "      <td>164782</td>\n",
       "      <td>18</td>\n",
       "      <td>3</td>\n",
       "      <td>2</td>\n",
       "      <td>4.0</td>\n",
       "    </tr>\n",
       "    <tr>\n",
       "      <th>459635</th>\n",
       "      <td>1680532</td>\n",
       "      <td>106435</td>\n",
       "      <td>6</td>\n",
       "      <td>3</td>\n",
       "      <td>2</td>\n",
       "      <td>21.0</td>\n",
       "    </tr>\n",
       "    <tr>\n",
       "      <th>468324</th>\n",
       "      <td>222962</td>\n",
       "      <td>54979</td>\n",
       "      <td>59</td>\n",
       "      <td>3</td>\n",
       "      <td>2</td>\n",
       "      <td>3.0</td>\n",
       "    </tr>\n",
       "    <tr>\n",
       "      <th>477526</th>\n",
       "      <td>2592344</td>\n",
       "      <td>46860</td>\n",
       "      <td>38</td>\n",
       "      <td>3</td>\n",
       "      <td>2</td>\n",
       "      <td>3.0</td>\n",
       "    </tr>\n",
       "  </tbody>\n",
       "</table>\n",
       "<p>121 rows × 6 columns</p>\n",
       "</div>"
      ],
      "text/plain": [
       "        order_id  user_id  order_number  order_dow  order_hour_of_day  \\\n",
       "4838     2766110   162084            41          3                  2   \n",
       "5156     2190225   138285            18          3                  2   \n",
       "15506     553049    58599            13          3                  2   \n",
       "18420     382357   120200            19          3                  2   \n",
       "24691     690242    77357             2          3                  2   \n",
       "...          ...      ...           ...        ...                ...   \n",
       "457013   3384021    14881             6          3                  2   \n",
       "458816    910166   164782            18          3                  2   \n",
       "459635   1680532   106435             6          3                  2   \n",
       "468324    222962    54979            59          3                  2   \n",
       "477526   2592344    46860            38          3                  2   \n",
       "\n",
       "        days_since_prior_order  \n",
       "4838                      16.0  \n",
       "5156                      11.0  \n",
       "15506                      7.0  \n",
       "18420                     11.0  \n",
       "24691                      9.0  \n",
       "...                        ...  \n",
       "457013                    30.0  \n",
       "458816                     4.0  \n",
       "459635                    21.0  \n",
       "468324                     3.0  \n",
       "477526                     3.0  \n",
       "\n",
       "[121 rows x 6 columns]"
      ]
     },
     "execution_count": 12,
     "metadata": {},
     "output_type": "execute_result"
    }
   ],
   "source": [
    "# Check for all orders placed Wednesday at 2:00 AM\n",
    "\n",
    "# Convert 'order_dow' to numeric if it's not already\n",
    "orders['order_dow'] = pd.to_numeric(orders['order_dow'], errors='coerce')\n",
    "\n",
    "# Convert 'order_hour_of_day' to numeric if it's not already\n",
    "orders['order_hour_of_day'] = pd.to_numeric(orders['order_hour_of_day'], errors='coerce')\n",
    "\n",
    "# Filter for orders placed on Wednesday (day 3) at 2:00 AM (hour 2)\n",
    "wednesday_2am_orders = orders[(orders['order_dow'] == 3) & (orders['order_hour_of_day'] == 2)]\n",
    "\n",
    "wednesday_2am_orders\n"
   ]
  },
  {
   "cell_type": "code",
   "execution_count": 13,
   "id": "480563c7",
   "metadata": {},
   "outputs": [
    {
     "data": {
      "text/html": [
       "<div>\n",
       "<style scoped>\n",
       "    .dataframe tbody tr th:only-of-type {\n",
       "        vertical-align: middle;\n",
       "    }\n",
       "\n",
       "    .dataframe tbody tr th {\n",
       "        vertical-align: top;\n",
       "    }\n",
       "\n",
       "    .dataframe thead th {\n",
       "        text-align: right;\n",
       "    }\n",
       "</style>\n",
       "<table border=\"1\" class=\"dataframe\">\n",
       "  <thead>\n",
       "    <tr style=\"text-align: right;\">\n",
       "      <th></th>\n",
       "      <th>order_id</th>\n",
       "      <th>user_id</th>\n",
       "      <th>order_number</th>\n",
       "      <th>order_dow</th>\n",
       "      <th>order_hour_of_day</th>\n",
       "      <th>days_since_prior_order</th>\n",
       "    </tr>\n",
       "  </thead>\n",
       "  <tbody>\n",
       "    <tr>\n",
       "      <th>0</th>\n",
       "      <td>1515936</td>\n",
       "      <td>183418</td>\n",
       "      <td>11</td>\n",
       "      <td>6</td>\n",
       "      <td>13</td>\n",
       "      <td>30.0</td>\n",
       "    </tr>\n",
       "    <tr>\n",
       "      <th>1</th>\n",
       "      <td>1690866</td>\n",
       "      <td>163593</td>\n",
       "      <td>5</td>\n",
       "      <td>5</td>\n",
       "      <td>12</td>\n",
       "      <td>9.0</td>\n",
       "    </tr>\n",
       "    <tr>\n",
       "      <th>2</th>\n",
       "      <td>1454967</td>\n",
       "      <td>39980</td>\n",
       "      <td>4</td>\n",
       "      <td>5</td>\n",
       "      <td>19</td>\n",
       "      <td>2.0</td>\n",
       "    </tr>\n",
       "    <tr>\n",
       "      <th>3</th>\n",
       "      <td>1768857</td>\n",
       "      <td>82516</td>\n",
       "      <td>56</td>\n",
       "      <td>0</td>\n",
       "      <td>20</td>\n",
       "      <td>10.0</td>\n",
       "    </tr>\n",
       "    <tr>\n",
       "      <th>4</th>\n",
       "      <td>3007858</td>\n",
       "      <td>196724</td>\n",
       "      <td>2</td>\n",
       "      <td>4</td>\n",
       "      <td>12</td>\n",
       "      <td>17.0</td>\n",
       "    </tr>\n",
       "    <tr>\n",
       "      <th>...</th>\n",
       "      <td>...</td>\n",
       "      <td>...</td>\n",
       "      <td>...</td>\n",
       "      <td>...</td>\n",
       "      <td>...</td>\n",
       "      <td>...</td>\n",
       "    </tr>\n",
       "    <tr>\n",
       "      <th>478962</th>\n",
       "      <td>3210681</td>\n",
       "      <td>5617</td>\n",
       "      <td>5</td>\n",
       "      <td>1</td>\n",
       "      <td>14</td>\n",
       "      <td>7.0</td>\n",
       "    </tr>\n",
       "    <tr>\n",
       "      <th>478963</th>\n",
       "      <td>3270802</td>\n",
       "      <td>112087</td>\n",
       "      <td>2</td>\n",
       "      <td>3</td>\n",
       "      <td>13</td>\n",
       "      <td>6.0</td>\n",
       "    </tr>\n",
       "    <tr>\n",
       "      <th>478964</th>\n",
       "      <td>885349</td>\n",
       "      <td>82944</td>\n",
       "      <td>16</td>\n",
       "      <td>2</td>\n",
       "      <td>11</td>\n",
       "      <td>6.0</td>\n",
       "    </tr>\n",
       "    <tr>\n",
       "      <th>478965</th>\n",
       "      <td>216274</td>\n",
       "      <td>4391</td>\n",
       "      <td>3</td>\n",
       "      <td>3</td>\n",
       "      <td>8</td>\n",
       "      <td>8.0</td>\n",
       "    </tr>\n",
       "    <tr>\n",
       "      <th>478966</th>\n",
       "      <td>2071924</td>\n",
       "      <td>1730</td>\n",
       "      <td>18</td>\n",
       "      <td>1</td>\n",
       "      <td>14</td>\n",
       "      <td>15.0</td>\n",
       "    </tr>\n",
       "  </tbody>\n",
       "</table>\n",
       "<p>478952 rows × 6 columns</p>\n",
       "</div>"
      ],
      "text/plain": [
       "        order_id  user_id  order_number  order_dow  order_hour_of_day  \\\n",
       "0        1515936   183418            11          6                 13   \n",
       "1        1690866   163593             5          5                 12   \n",
       "2        1454967    39980             4          5                 19   \n",
       "3        1768857    82516            56          0                 20   \n",
       "4        3007858   196724             2          4                 12   \n",
       "...          ...      ...           ...        ...                ...   \n",
       "478962   3210681     5617             5          1                 14   \n",
       "478963   3270802   112087             2          3                 13   \n",
       "478964    885349    82944            16          2                 11   \n",
       "478965    216274     4391             3          3                  8   \n",
       "478966   2071924     1730            18          1                 14   \n",
       "\n",
       "        days_since_prior_order  \n",
       "0                         30.0  \n",
       "1                          9.0  \n",
       "2                          2.0  \n",
       "3                         10.0  \n",
       "4                         17.0  \n",
       "...                        ...  \n",
       "478962                     7.0  \n",
       "478963                     6.0  \n",
       "478964                     6.0  \n",
       "478965                     8.0  \n",
       "478966                    15.0  \n",
       "\n",
       "[478952 rows x 6 columns]"
      ]
     },
     "execution_count": 13,
     "metadata": {},
     "output_type": "execute_result"
    }
   ],
   "source": [
    "# Remove duplicate orders\n",
    "\n",
    "orders = orders.drop_duplicates()\n",
    "\n",
    "orders"
   ]
  },
  {
   "cell_type": "code",
   "execution_count": 14,
   "id": "0b2396a2",
   "metadata": {},
   "outputs": [
    {
     "name": "stdout",
     "output_type": "stream",
     "text": [
      "Number of duplicate rows: 0\n"
     ]
    }
   ],
   "source": [
    "# Double check for duplicate rows\n",
    "\n",
    "duplicate_rows = orders.duplicated()\n",
    "\n",
    "# Count the number of duplicates\n",
    "num_duplicates = duplicate_rows.sum()\n",
    "print(\"Number of duplicate rows:\", num_duplicates)"
   ]
  },
  {
   "cell_type": "code",
   "execution_count": 15,
   "id": "f6113ef1",
   "metadata": {},
   "outputs": [
    {
     "name": "stdout",
     "output_type": "stream",
     "text": [
      "\n",
      "Number of duplicates based on order_id: 0\n"
     ]
    }
   ],
   "source": [
    "# Double check for duplicate order IDs only\n",
    "\n",
    "duplicate_order_ids = orders.duplicated('order_id')\n",
    "num_duplicates_order_ids = duplicate_order_ids.sum()\n",
    "print(\"\\nNumber of duplicates based on order_id:\", num_duplicates_order_ids)"
   ]
  },
  {
   "cell_type": "markdown",
   "id": "5e8905ae",
   "metadata": {},
   "source": []
  },
  {
   "cell_type": "markdown",
   "id": "04d12761",
   "metadata": {},
   "source": [
    "### Summary\n",
    "\n",
    "<p> Checked the orders data frame set for any duplicates and removed them from the data set. Also checked on the number of duplicate rows and by order_id and it turn out theres 15 duplicates for each.<p>"
   ]
  },
  {
   "cell_type": "markdown",
   "id": "45e6bc46",
   "metadata": {},
   "source": [
    "### `products` data frame"
   ]
  },
  {
   "cell_type": "code",
   "execution_count": 16,
   "id": "5f526b5b-8175-46fa-a0fd-441767d50e64",
   "metadata": {},
   "outputs": [
    {
     "name": "stdout",
     "output_type": "stream",
     "text": [
      "Number of fully duplicate rows: 0\n"
     ]
    }
   ],
   "source": [
    "# Check for fully duplicate rows\n",
    "\n",
    "duplicate_rows = products.duplicated()\n",
    "\n",
    "# Count the number of fully duplicated rows\n",
    "num_duplicates = duplicate_rows.sum()\n",
    "print(\"Number of fully duplicate rows:\", num_duplicates)"
   ]
  },
  {
   "cell_type": "code",
   "execution_count": 17,
   "id": "88daa4f4",
   "metadata": {},
   "outputs": [
    {
     "name": "stdout",
     "output_type": "stream",
     "text": [
      "Number of duplicate product IDs: 0\n"
     ]
    }
   ],
   "source": [
    "# Check for just duplicate product IDs\n",
    "\n",
    "duplicate_product_ids = products.duplicated('product_id')\n",
    "\n",
    "# Count the number of duplicate product IDs\n",
    "num_duplicates = duplicate_product_ids.sum()\n",
    "print(\"Number of duplicate product IDs:\", num_duplicates)"
   ]
  },
  {
   "cell_type": "code",
   "execution_count": 18,
   "id": "c773f0bf",
   "metadata": {},
   "outputs": [
    {
     "name": "stdout",
     "output_type": "stream",
     "text": [
      "Number of duplicate product names: 1361\n"
     ]
    }
   ],
   "source": [
    "# Check for just duplicate product names (convert names to lowercase to compare better)\n",
    "\n",
    "products['product_name_lower'] = products['product_name'].str.lower()\n",
    "\n",
    "duplicate_product_names = products.duplicated('product_name_lower')\n",
    "\n",
    "num_duplicates = duplicate_product_names.sum()\n",
    "print(\"Number of duplicate product names:\", num_duplicates)\n"
   ]
  },
  {
   "cell_type": "code",
   "execution_count": 19,
   "id": "01efd02e",
   "metadata": {},
   "outputs": [
    {
     "name": "stdout",
     "output_type": "stream",
     "text": [
      "Number of duplicate product names (non-missing values): 104\n"
     ]
    }
   ],
   "source": [
    "# Check for duplicate product names that aren't missing\n",
    "\n",
    "# Filter out rows where product names are missing\n",
    "products_missing = products.dropna(subset=['product_name_lower'])\n",
    "\n",
    "duplicate_product_names = products_missing.duplicated(subset=['product_name_lower'])\n",
    "\n",
    "# Count the number of duplicate product names\n",
    "num_duplicates = duplicate_product_names.sum()\n",
    "print(\"Number of duplicate product names (non-missing values):\", num_duplicates)\n"
   ]
  },
  {
   "cell_type": "markdown",
   "id": "9da8d293",
   "metadata": {},
   "source": []
  },
  {
   "cell_type": "markdown",
   "id": "36fba5b5",
   "metadata": {},
   "source": [
    "### Summary\n",
    "\n",
    "<p>For this data set, I checked to see if there are any duplicate rows, by their product_ids and product_names. It turn out there are no duplicate rows or by product_ids. There is however 1361 duplicate product names and 104 of the product names are non-missing value (NAN).<p>"
   ]
  },
  {
   "cell_type": "markdown",
   "id": "60f30db1",
   "metadata": {},
   "source": [
    "### `departments` data frame"
   ]
  },
  {
   "cell_type": "code",
   "execution_count": 20,
   "id": "fb410ad4-0fbf-4b80-bb09-23fdea79afe3",
   "metadata": {},
   "outputs": [
    {
     "data": {
      "text/plain": [
       "0"
      ]
     },
     "execution_count": 20,
     "metadata": {},
     "output_type": "execute_result"
    }
   ],
   "source": [
    "departments.duplicated().sum()\n"
   ]
  },
  {
   "cell_type": "markdown",
   "id": "46fff108",
   "metadata": {},
   "source": [
    "### Summary\n",
    "\n",
    "<p> Checked for duplicates and missing value but there aren't any for this data set.<p>"
   ]
  },
  {
   "cell_type": "markdown",
   "id": "889349c1",
   "metadata": {},
   "source": [
    "### `aisles` data frame"
   ]
  },
  {
   "cell_type": "code",
   "execution_count": 21,
   "id": "9da89fb9-4679-40f5-ad0d-c34df753a3f8",
   "metadata": {},
   "outputs": [
    {
     "data": {
      "text/plain": [
       "0"
      ]
     },
     "execution_count": 21,
     "metadata": {},
     "output_type": "execute_result"
    }
   ],
   "source": [
    "aisles.duplicated().sum()"
   ]
  },
  {
   "cell_type": "markdown",
   "id": "34f69dee",
   "metadata": {},
   "source": [
    "### Summary\n",
    "\n",
    "<p> Checked for duplicates and missing value but there aren't any for this data set.<p>"
   ]
  },
  {
   "cell_type": "markdown",
   "id": "274cd06a",
   "metadata": {},
   "source": [
    "### `order_products` data frame"
   ]
  },
  {
   "cell_type": "code",
   "execution_count": 22,
   "id": "52326689-84a8-4b8f-a881-7c68780f62c9",
   "metadata": {},
   "outputs": [
    {
     "name": "stdout",
     "output_type": "stream",
     "text": [
      "Number of fully duplicated rows: 0\n"
     ]
    }
   ],
   "source": [
    "# Check for fullly duplicate rows\n",
    "\n",
    "fully_duplicates = order_products.duplicated()\n",
    "num_fully_duplicates = fully_duplicates.sum()\n",
    "print(\"Number of fully duplicated rows:\", num_fully_duplicates)"
   ]
  },
  {
   "cell_type": "code",
   "execution_count": 23,
   "id": "7b861391",
   "metadata": {},
   "outputs": [
    {
     "name": "stdout",
     "output_type": "stream",
     "text": [
      "\n",
      "Number of tricky duplicates based on specific columns: 0\n"
     ]
    }
   ],
   "source": [
    "# Double check for any other tricky duplicates\n",
    "\n",
    "# Double-check for tricky duplicates based on specific columns\n",
    "tricky_duplicates = order_products.duplicated(subset=['order_id', 'product_id', 'add_to_cart_order', 'reordered'])\n",
    "num_tricky_duplicates = tricky_duplicates.sum()\n",
    "print(\"\\nNumber of tricky duplicates based on specific columns:\", num_tricky_duplicates)"
   ]
  },
  {
   "cell_type": "code",
   "execution_count": 24,
   "id": "7ba247fb",
   "metadata": {},
   "outputs": [
    {
     "name": "stdout",
     "output_type": "stream",
     "text": [
      "Number of duplicates based on order_id and product_id: 0\n"
     ]
    }
   ],
   "source": [
    "# Check for duplicates based on order_id and product_id combinations\n",
    "order_product_duplicates = order_products.duplicated(subset=['order_id', 'product_id'])\n",
    "num_order_product_duplicates = order_product_duplicates.sum()\n",
    "print(\"Number of duplicates based on order_id and product_id:\", num_order_product_duplicates)\n"
   ]
  },
  {
   "cell_type": "markdown",
   "id": "d5a48d55",
   "metadata": {},
   "source": [
    "### Summary\n",
    "\n",
    "<p> Check for duplicates and found none in this data set. Also checked for the uniqueness of the combinations that should not be repeated such as `order_id` + `product_id`. <p>"
   ]
  },
  {
   "cell_type": "markdown",
   "id": "1e46de76",
   "metadata": {},
   "source": [
    "## Find and remove missing values\n"
   ]
  },
  {
   "cell_type": "markdown",
   "id": "c0aebd78",
   "metadata": {},
   "source": [
    "### `products` data frame"
   ]
  },
  {
   "cell_type": "code",
   "execution_count": 25,
   "id": "fe4a8b0f",
   "metadata": {},
   "outputs": [
    {
     "data": {
      "text/plain": [
       "product_id               0\n",
       "product_name          1258\n",
       "aisle_id                 0\n",
       "department_id            0\n",
       "product_name_lower    1258\n",
       "dtype: int64"
      ]
     },
     "execution_count": 25,
     "metadata": {},
     "output_type": "execute_result"
    }
   ],
   "source": [
    "missing_values = products.isnull().sum()\n",
    "\n",
    "missing_values"
   ]
  },
  {
   "cell_type": "code",
   "execution_count": 26,
   "id": "e96167bc",
   "metadata": {},
   "outputs": [
    {
     "name": "stdout",
     "output_type": "stream",
     "text": [
      "Unique aisle IDs for missing product names: [100]\n",
      "All missing product names associated with aisle ID 100: True\n"
     ]
    }
   ],
   "source": [
    "# Are all of the missing product names associated with aisle ID 100? \n",
    "\n",
    "# Filter rows with missing product names\n",
    "missing_product_names = products[products['product_name'].isna()]\n",
    "\n",
    "# Get unique aisle_id values among the rows with missing product names\n",
    "unique_aisle_ids_for_missing = missing_product_names['aisle_id'].unique()\n",
    "\n",
    "print(\"Unique aisle IDs for missing product names:\", unique_aisle_ids_for_missing)\n",
    "\n",
    "# Check if all missing product names are associated with a single aisle ID 100\n",
    "all_missing_same_aisle = len(unique_aisle_ids_for_missing) == 1 and unique_aisle_ids_for_missing[0] == 100\n",
    "\n",
    "print(\"All missing product names associated with aisle ID 100:\", all_missing_same_aisle)"
   ]
  },
  {
   "cell_type": "code",
   "execution_count": 27,
   "id": "8fd0a541",
   "metadata": {},
   "outputs": [
    {
     "name": "stdout",
     "output_type": "stream",
     "text": [
      "Unique department IDs for missing product names: [21]\n",
      "All missing product names associated with department ID 21: True\n"
     ]
    }
   ],
   "source": [
    "# Are all of the missing product names associated with department ID 21? \n",
    "\n",
    "# Get unique department_id values among the rows with missing product names\n",
    "unique_department_ids_for_missing = missing_product_names['department_id'].unique()\n",
    "\n",
    "print(\"Unique department IDs for missing product names:\", unique_department_ids_for_missing)\n",
    "\n",
    "# Check if all missing product names are associated with a single department ID 21\n",
    "all_missing_same_department = len(unique_department_ids_for_missing) == 1 and unique_department_ids_for_missing[0] == 21\n",
    "\n",
    "print(\"All missing product names associated with department ID 21:\", all_missing_same_department)"
   ]
  },
  {
   "cell_type": "code",
   "execution_count": 28,
   "id": "325c3464",
   "metadata": {},
   "outputs": [
    {
     "name": "stdout",
     "output_type": "stream",
     "text": [
      "Aisle name for aisle ID 100: missing\n",
      "Department name for department ID 21: missing\n"
     ]
    }
   ],
   "source": [
    "# What is this ailse and department? missing\n",
    "\n",
    "# Determine the names of the aisle and department\n",
    "aisle_name = aisles[aisles['aisle_id'] == 100]['aisle'].values[0]\n",
    "department_name = departments[departments['department_id'] == 21]['department'].values[0]\n",
    "\n",
    "print(\"Aisle name for aisle ID 100:\", aisle_name)\n",
    "print(\"Department name for department ID 21:\", department_name)"
   ]
  },
  {
   "cell_type": "code",
   "execution_count": 29,
   "id": "6b295120",
   "metadata": {},
   "outputs": [
    {
     "name": "stdout",
     "output_type": "stream",
     "text": [
      "Missing values after filling product names:\n",
      "product_id               0\n",
      "product_name             0\n",
      "aisle_id                 0\n",
      "department_id            0\n",
      "product_name_lower    1258\n",
      "dtype: int64\n"
     ]
    }
   ],
   "source": [
    "# Fill missing product names with 'Unknown'\n",
    "\n",
    "products['product_name'] = products['product_name'].fillna('Unknown')\n",
    "\n",
    "# Verify that there are no more missing product names\n",
    "missing_values_after_fill = products.isnull().sum()\n",
    "print(\"Missing values after filling product names:\")\n",
    "print(missing_values_after_fill)"
   ]
  },
  {
   "cell_type": "markdown",
   "id": "599b83b3",
   "metadata": {},
   "source": [
    "### Summary\n",
    "\n",
    "<p> Look through the data set to see if there are any missing values. Found out that there are missing product names that are tied to aisle_id 100 and department_id 21. Turn out that aisle_id 21 and department_id 21 is named `missing` in the data set. I ended up filling in the missing value with `Unkown` so the data is complete.<p>"
   ]
  },
  {
   "cell_type": "markdown",
   "id": "7eb45c86",
   "metadata": {},
   "source": [
    "### `orders` data frame"
   ]
  },
  {
   "cell_type": "markdown",
   "id": "f07d4b87",
   "metadata": {},
   "source": [
    "Look at orders that are not the customer's first order and then check for any missing values in the `days_since_prior_order` column for these orders."
   ]
  },
  {
   "cell_type": "code",
   "execution_count": 30,
   "id": "21ced478",
   "metadata": {},
   "outputs": [
    {
     "data": {
      "text/plain": [
       "order_id                      0\n",
       "user_id                       0\n",
       "order_number                  0\n",
       "order_dow                     0\n",
       "order_hour_of_day             0\n",
       "days_since_prior_order    28817\n",
       "dtype: int64"
      ]
     },
     "execution_count": 30,
     "metadata": {},
     "output_type": "execute_result"
    }
   ],
   "source": [
    "orders.isnull().sum()\n"
   ]
  },
  {
   "cell_type": "code",
   "execution_count": 31,
   "id": "166e5a86",
   "metadata": {},
   "outputs": [
    {
     "name": "stdout",
     "output_type": "stream",
     "text": [
      "Number of missing values in 'days_since_prior_order' where it's not the customer's first order: 0\n"
     ]
    }
   ],
   "source": [
    "# Are there any missing values where it's not a customer's first order?\n",
    "\n",
    "missing_values_non_first_order = orders[(orders['order_number'] > 1) & (orders['days_since_prior_order'].isnull())]\n",
    "\n",
    "print(\"Number of missing values in 'days_since_prior_order' where it's not the customer's first order:\", len(missing_values_non_first_order))\n"
   ]
  },
  {
   "cell_type": "markdown",
   "id": "0b342a40",
   "metadata": {},
   "source": [
    "### Summary\n",
    "\n",
    "<p> There are no missing values in this data set and there is no missing values where it's not a customer's first order either.<p>"
   ]
  },
  {
   "cell_type": "markdown",
   "id": "69dc9ca4",
   "metadata": {},
   "source": [
    "### `order_products` data frame"
   ]
  },
  {
   "cell_type": "code",
   "execution_count": 32,
   "id": "b8240253",
   "metadata": {},
   "outputs": [
    {
     "data": {
      "text/plain": [
       "order_id               0\n",
       "product_id             0\n",
       "add_to_cart_order    836\n",
       "reordered              0\n",
       "dtype: int64"
      ]
     },
     "execution_count": 32,
     "metadata": {},
     "output_type": "execute_result"
    }
   ],
   "source": [
    "# Check if there is any missing values\n",
    "missing_values = order_products.isnull().sum()\n",
    "\n",
    "missing_values"
   ]
  },
  {
   "cell_type": "code",
   "execution_count": 33,
   "id": "9a78e5ee",
   "metadata": {},
   "outputs": [
    {
     "name": "stdout",
     "output_type": "stream",
     "text": [
      "Minimum value in 'add_to_cart_order': 1.0\n",
      "Maximum value in 'add_to_cart_order': 64.0\n"
     ]
    }
   ],
   "source": [
    "# What are the min and max values in this column?\n",
    "\n",
    "min_value = order_products['add_to_cart_order'].min()\n",
    "max_value = order_products['add_to_cart_order'].max()\n",
    "\n",
    "print(f\"Minimum value in 'add_to_cart_order': {min_value}\")\n",
    "print(f\"Maximum value in 'add_to_cart_order': {max_value}\")"
   ]
  },
  {
   "cell_type": "code",
   "execution_count": 34,
   "id": "ab9d0c2b",
   "metadata": {},
   "outputs": [
    {
     "name": "stdout",
     "output_type": "stream",
     "text": [
      "Order IDs with missing values in 'add_to_cart_order': [2449164 1968313 2926893 1717990 1959075  844733   61355  936852  264710\n",
      " 1564093  129627  293169 2849370 1386261 3308010  903110 2136777 3347453\n",
      " 1888628  165801 2094761 1038146 2997021  813364 2256933  171934 2409109\n",
      " 1730767 1169835  733526  404157 3125735  747668 1800005 1961723  871281\n",
      "  388234 1648217 1477139  102236 1021563 1832957 2721963  678116 1220886\n",
      " 1673227 2999801 1633337 2470674 2625444 1677118 2479011 3383594 1183255\n",
      " 1713430 2652650 1598369 1916118  854647 1302315  888470  180546 2621907\n",
      " 1308785 2729254    9310 2170451 2979697 1625713 1529171]\n"
     ]
    }
   ],
   "source": [
    "# Save all order IDs with at least one missing value in 'add_to_cart_order'\n",
    "\n",
    "orders_with_missing_value = order_products[order_products['add_to_cart_order'].isnull()]['order_id'].unique()\n",
    "\n",
    "print(f\"Order IDs with missing values in 'add_to_cart_order': {orders_with_missing_value}\")\n"
   ]
  },
  {
   "cell_type": "code",
   "execution_count": 35,
   "id": "54c31695",
   "metadata": {},
   "outputs": [
    {
     "name": "stdout",
     "output_type": "stream",
     "text": [
      "        order_id  num_products\n",
      "1274        9310            65\n",
      "8201       61355           127\n",
      "13574     102236            95\n",
      "17108     129627            69\n",
      "21882     165801            70\n",
      "...          ...           ...\n",
      "394755   2999801            70\n",
      "411168   3125735            86\n",
      "435088   3308010           115\n",
      "440301   3347453            71\n",
      "445135   3383594            69\n",
      "\n",
      "[70 rows x 2 columns]\n",
      "Do all orders with missing values have more than 64 products? True\n"
     ]
    }
   ],
   "source": [
    "# Group by 'order_id' and count the number of products in each order\n",
    "order_counts = order_products.groupby('order_id').size().reset_index(name='num_products')\n",
    "\n",
    "# Filter the order_counts DataFrame to include only orders with missing values\n",
    "orders_with_missing_counts = order_counts[order_counts['order_id'].isin(orders_with_missing_value)]\n",
    "\n",
    "print(orders_with_missing_counts)\n",
    "\n",
    "# Check if all orders with missing values have more than 64 products\n",
    "all_orders_more_than_64_products = (orders_with_missing_counts['num_products'] > 64).all()\n",
    "print(\"Do all orders with missing values have more than 64 products?\", all_orders_more_than_64_products)"
   ]
  },
  {
   "cell_type": "code",
   "execution_count": 36,
   "id": "7a987d08",
   "metadata": {},
   "outputs": [
    {
     "name": "stdout",
     "output_type": "stream",
     "text": [
      "<class 'pandas.core.frame.DataFrame'>\n",
      "RangeIndex: 4545007 entries, 0 to 4545006\n",
      "Data columns (total 4 columns):\n",
      " #   Column             Dtype\n",
      "---  ------             -----\n",
      " 0   order_id           int64\n",
      " 1   product_id         int64\n",
      " 2   add_to_cart_order  int64\n",
      " 3   reordered          int64\n",
      "dtypes: int64(4)\n",
      "memory usage: 138.7 MB\n"
     ]
    }
   ],
   "source": [
    "# Replace missing values with 999 and convert column to integer type\n",
    "\n",
    "order_products['add_to_cart_order'].fillna(999, inplace=True)\n",
    "\n",
    "# Convert the 'add_to_cart_order' column to integer type\n",
    "order_products['add_to_cart_order'] = order_products['add_to_cart_order'].astype(int)\n",
    "\n",
    "# Verify the changes\n",
    "order_products.info()"
   ]
  },
  {
   "cell_type": "markdown",
   "id": "97f06876",
   "metadata": {},
   "source": [
    "### Summary\n",
    "\n",
    "<p> For this data set since the maximun items allowed in the add_to_cart_order is 64 there are some missing values associated with it. It turn out that all the missing value for the `add_to_cart_order` has a higher number than 64. In order to aggregate the date properly I filled in all the missing values with 999. <p>"
   ]
  },
  {
   "cell_type": "markdown",
   "id": "short-capability",
   "metadata": {},
   "source": [
    "### [A1] Verify that the `'order_hour_of_day'` and `'order_dow'` values in the `orders` tables are sensible (i.e. `'order_hour_of_day'` ranges from 0 to 23 and `'order_dow'` ranges from 0 to 6)"
   ]
  },
  {
   "cell_type": "code",
   "execution_count": 37,
   "id": "growing-fruit",
   "metadata": {},
   "outputs": [
    {
     "name": "stdout",
     "output_type": "stream",
     "text": [
      "Range of order_hour_of_day: 0 to 23\n",
      "Range of order_dow: 0 to 6\n"
     ]
    }
   ],
   "source": [
    "# Check order_hour_of_day range\n",
    "print(\"Range of order_hour_of_day:\", orders['order_hour_of_day'].min(), \"to\", orders['order_hour_of_day'].max())\n",
    "\n",
    "# Check order_dow range\n",
    "print(\"Range of order_dow:\", orders['order_dow'].min(), \"to\", orders['order_dow'].max())\n"
   ]
  },
  {
   "cell_type": "code",
   "execution_count": 38,
   "id": "accessory-malaysia",
   "metadata": {},
   "outputs": [
    {
     "data": {
      "image/png": "[encoded data removed]",
      "text/plain": [
       "<Figure size 1000x600 with 1 Axes>"
      ]
     },
     "metadata": {},
     "output_type": "display_data"
    },
    {
     "data": {
      "image/png": "[encoded data removed]",
      "text/plain": [
       "<Figure size 800x600 with 1 Axes>"
      ]
     },
     "metadata": {},
     "output_type": "display_data"
    }
   ],
   "source": [
    "import matplotlib.pyplot as plt\n",
    "\n",
    "# Create a DataFrame with orders per hour\n",
    "orders_per_hour = orders['order_hour_of_day'].value_counts().sort_index()\n",
    "df_orders_per_hour = pd.DataFrame({\n",
    "    'hour': orders_per_hour.index,\n",
    "    'num_orders': orders_per_hour.values\n",
    "})\n",
    "\n",
    "# Plot using the DataFrame orders per hour\n",
    "df_orders_per_hour.plot(\n",
    "    x='hour', \n",
    "    y='num_orders', \n",
    "    kind='bar', \n",
    "    color='skyblue', \n",
    "    title='Number of Orders by Hour of the Day',\n",
    "    xlabel='Hour of the Day',\n",
    "    ylabel='Number of Orders',\n",
    "    figsize=(10, 6),\n",
    "    legend=False\n",
    ")\n",
    "\n",
    "plt.xticks(range(24))\n",
    "plt.grid(axis='y')\n",
    "plt.show()\n",
    "\n",
    "# Create a DataFrame with orders per day\n",
    "orders_per_day = orders['order_dow'].value_counts().sort_index()\n",
    "df_orders_per_day = pd.DataFrame({\n",
    "    'day': orders_per_day.index,\n",
    "    'num_orders': orders_per_day.values\n",
    "})\n",
    "\n",
    "# Plot using the DataFrame orders per day\n",
    "df_orders_per_day.plot(\n",
    "    x='day', \n",
    "    y='num_orders', \n",
    "    kind='bar', \n",
    "    color='lightgreen', \n",
    "    title='Number of Orders by Day of the Week',\n",
    "    xlabel='Day of the Week (0=Sun)',\n",
    "    ylabel='Number of Orders',\n",
    "    figsize=(8, 6),\n",
    "    legend=False\n",
    ")\n",
    "\n",
    "plt.xticks(ticks=range(7), labels=['Sun', 'Mon', 'Tue', 'Wed', 'Thu', 'Fri', 'Sat'])\n",
    "plt.grid(axis='y')\n",
    "plt.show()\n"
   ]
  },
  {
   "cell_type": "markdown",
   "id": "a6743a70",
   "metadata": {},
   "source": [
    "### [A2] What time of day do people shop for groceries?"
   ]
  },
  {
   "cell_type": "markdown",
   "id": "e8701f13",
   "metadata": {},
   "source": [
    "Based on the graph above, it looks like the most popular time to shop is 10am. The range from 10am to 3pm are the most active times people shop for groceries."
   ]
  },
  {
   "cell_type": "markdown",
   "id": "documented-command",
   "metadata": {},
   "source": [
    "### [A3] What day of the week do people shop for groceries?"
   ]
  },
  {
   "cell_type": "markdown",
   "id": "214bfc98",
   "metadata": {},
   "source": [
    "Sunday is the day most people do their groceries shopping follow by Monday."
   ]
  },
  {
   "cell_type": "markdown",
   "id": "cutting-concert",
   "metadata": {},
   "source": [
    "### [A4] How long do people wait until placing another order?"
   ]
  },
  {
   "cell_type": "code",
   "execution_count": 39,
   "id": "c231f523",
   "metadata": {},
   "outputs": [
    {
     "name": "stdout",
     "output_type": "stream",
     "text": [
      "Summary statistics for days_since_prior_order:\n",
      "count    450135.000000\n",
      "mean         11.101814\n",
      "std           9.190004\n",
      "min           0.000000\n",
      "25%           4.000000\n",
      "50%           7.000000\n",
      "75%          15.000000\n",
      "max          30.000000\n",
      "Name: days_since_prior_order, dtype: float64\n"
     ]
    },
    {
     "data": {
      "image/png": "[encoded data removed]",
      "text/plain": [
       "<Figure size 1000x600 with 1 Axes>"
      ]
     },
     "metadata": {},
     "output_type": "display_data"
    },
    {
     "name": "stdout",
     "output_type": "stream",
     "text": [
      "Minimum days since prior order: 0.0\n",
      "Maximum days since prior order: 30.0\n"
     ]
    }
   ],
   "source": [
    "# Summary statistics for days_since_prior_order\n",
    "days_since_prior_order_stats = orders['days_since_prior_order'].describe()\n",
    "print(\"Summary statistics for days_since_prior_order:\")\n",
    "print(days_since_prior_order_stats)\n",
    "\n",
    "# Create a DataFrame for the histogram data\n",
    "days_data = orders['days_since_prior_order'].dropna()\n",
    "hist_data, bin_edges = np.histogram(days_data, bins=30)\n",
    "\n",
    "df_hist = pd.DataFrame({\n",
    "    'days': bin_edges[:-1],\n",
    "    'frequency': hist_data\n",
    "})\n",
    "\n",
    "# Plot using the DataFrame plot method\n",
    "df_hist.plot(\n",
    "    x='days', \n",
    "    y='frequency', \n",
    "    kind='bar', \n",
    "    color='orange', \n",
    "    title='Distribution of Days Since Prior Order',\n",
    "    xlabel='Days Since Prior Order',\n",
    "    ylabel='Frequency',\n",
    "    figsize=(10, 6),\n",
    "    legend=False\n",
    ")\n",
    "\n",
    "plt.grid(axis='y')\n",
    "plt.show()\n",
    "\n",
    "# Analyze minimum and maximum values\n",
    "min_days = orders['days_since_prior_order'].min()\n",
    "max_days = orders['days_since_prior_order'].max()\n",
    "print(\"Minimum days since prior order:\", min_days)\n",
    "print(\"Maximum days since prior order:\", max_days)"
   ]
  },
  {
   "cell_type": "markdown",
   "id": "discrete-vertex",
   "metadata": {},
   "source": []
  },
  {
   "cell_type": "markdown",
   "id": "aecec95d",
   "metadata": {},
   "source": [
    "Based on the data it varies from 0 to 30 days wait before people place their orders. It seems like most people typically wait 7 days before placing their next order."
   ]
  },
  {
   "cell_type": "markdown",
   "id": "8d926614",
   "metadata": {},
   "source": []
  },
  {
   "cell_type": "markdown",
   "id": "packed-classic",
   "metadata": {},
   "source": [
    "### [B1] Is there a difference in `'order_hour_of_day'` distributions on Wednesdays and Saturdays? Plot the histograms for both days and describe the differences that you see."
   ]
  },
  {
   "cell_type": "code",
   "execution_count": 40,
   "id": "d89b8403",
   "metadata": {},
   "outputs": [
    {
     "data": {
      "image/png": "[encoded data removed]",
      "text/plain": [
       "<Figure size 1000x600 with 1 Axes>"
      ]
     },
     "metadata": {},
     "output_type": "display_data"
    }
   ],
   "source": [
    "wednesday_orders = orders[orders['order_dow'] == 3]  # 3 corresponds to Wednesday\n",
    "saturday_orders = orders[orders['order_dow'] == 6]   # 6 corresponds to Saturday\n",
    "\n",
    "# Create DataFrames for histograms\n",
    "wednesday_hist_data = wednesday_orders['order_hour_of_day'].value_counts().sort_index().reset_index()\n",
    "wednesday_hist_data.columns = ['order_hour_of_day', 'frequency']\n",
    "\n",
    "saturday_hist_data = saturday_orders['order_hour_of_day'].value_counts().sort_index().reset_index()\n",
    "saturday_hist_data.columns = ['order_hour_of_day', 'frequency']\n",
    "\n",
    "# Plot using the DataFrame created\n",
    "fig, ax = plt.subplots(figsize=(10, 6))\n",
    "\n",
    "wednesday_hist_data.plot(\n",
    "    x='order_hour_of_day', \n",
    "    y='frequency', \n",
    "    kind='bar', \n",
    "    alpha=0.5, \n",
    "    label='Wednesday', \n",
    "    color='skyblue', \n",
    "    ax=ax\n",
    ")\n",
    "\n",
    "saturday_hist_data.plot(\n",
    "    x='order_hour_of_day', \n",
    "    y='frequency', \n",
    "    kind='bar', \n",
    "    alpha=0.5, \n",
    "    label='Saturday', \n",
    "    color='lightgreen', \n",
    "    ax=ax\n",
    ")\n",
    "\n",
    "plt.title('Comparison of Order Hour Distribution (Wednesday vs Saturday)')\n",
    "plt.xlabel('Hour of the Day')\n",
    "plt.ylabel('Frequency')\n",
    "plt.xticks(range(24))\n",
    "plt.legend()\n",
    "plt.grid(axis='y')\n",
    "plt.show()"
   ]
  },
  {
   "cell_type": "markdown",
   "id": "85ef2f8a",
   "metadata": {},
   "source": [
    "### Observation\n",
    "\n",
    "- For both Wednesdays and Saturdays, the highest number of orders is around 10 AM to 3 PM.\n",
    "- The peak for Saturday orders seems to be more spread out throughout the day, whereas Wednesday orders show a sharper peak.\n",
    "- There are more orders in the early morning hours (7 AM - 9 AM) on Wednesdays compared to Saturdays.\n",
    "- The number of orders in the evening (5 PM - 7 PM) is slightly higher on Wednesdays than on Saturdays.\n",
    "- The overall frequency of orders is higher on Saturdays than on Wednesdays, indicating that more people are placing orders on Saturdays."
   ]
  },
  {
   "cell_type": "markdown",
   "id": "2b214f28",
   "metadata": {},
   "source": [
    "### Analysis\n",
    "\n",
    "These differences suggest that people tend to shop more throughout the day on Saturdays, likely due to having more free time on weekends. On Wednesdays, the ordering pattern might be influenced by work schedules, with more orders being placed early in the morning and in the evening."
   ]
  },
  {
   "cell_type": "markdown",
   "id": "charitable-congo",
   "metadata": {},
   "source": []
  },
  {
   "cell_type": "markdown",
   "id": "e3891143",
   "metadata": {},
   "source": [
    "### [B2] What's the distribution for the number of orders per customer?"
   ]
  },
  {
   "cell_type": "code",
   "execution_count": 41,
   "id": "d8c26c23",
   "metadata": {},
   "outputs": [
    {
     "data": {
      "image/png": "[encoded data removed]",
      "text/plain": [
       "<Figure size 1200x600 with 1 Axes>"
      ]
     },
     "metadata": {},
     "output_type": "display_data"
    }
   ],
   "source": [
    "\n",
    "orders_per_user = orders.groupby('user_id')['order_number'].max().value_counts()\n",
    "orders_per_user_df = orders_per_user.reset_index()\n",
    "orders_per_user_df.columns = ['Number of Orders', 'Number of Customers']\n",
    "\n",
    "# Plot using the specified dataframe\n",
    "orders_per_user_df.plot(x='Number of Orders', \n",
    "                        y='Number of Customers', \n",
    "                        color='purple', \n",
    "                        title=\"Distribution of Number of Orders per Customer\", \n",
    "                        style='*', \n",
    "                        xlabel=\"Number of Orders\", \n",
    "                        ylabel=\"Number of Customers\", \n",
    "                        figsize=[12, 6])\n",
    "\n",
    "plt.grid(axis='y')\n",
    "plt.show()"
   ]
  },
  {
   "cell_type": "markdown",
   "id": "5c1d261b",
   "metadata": {},
   "source": [
    "Most customers placed less than 10 orders."
   ]
  },
  {
   "cell_type": "markdown",
   "id": "d2eff7d5",
   "metadata": {},
   "source": []
  },
  {
   "cell_type": "markdown",
   "id": "54a0319c",
   "metadata": {},
   "source": [
    "### [B3] What are the top 20 popular products (display their id and name)?"
   ]
  },
  {
   "cell_type": "code",
   "execution_count": 42,
   "id": "exterior-arizona",
   "metadata": {},
   "outputs": [
    {
     "data": {
      "image/png": "[encoded data removed]",
      "text/plain": [
       "<Figure size 1000x800 with 1 Axes>"
      ]
     },
     "metadata": {},
     "output_type": "display_data"
    }
   ],
   "source": [
    "# Merge orders with order_products to get product names\n",
    "merged_orders = pd.merge(order_products, products[['product_id', 'product_name']], on='product_id')\n",
    "\n",
    "# Calculate frequency of each product\n",
    "top_products = merged_orders['product_name'].value_counts().head(20)\n",
    "\n",
    "# Plot top 20 products\n",
    "plt.figure(figsize=(10, 8))\n",
    "top_products.sort_values().plot(kind='barh', color='skyblue')\n",
    "plt.title('Top 20 Most Frequently Ordered Products')\n",
    "plt.xlabel('Number of Orders')\n",
    "plt.ylabel('Product')\n",
    "plt.gca().invert_yaxis()\n",
    "plt.show()\n",
    "\n"
   ]
  },
  {
   "cell_type": "code",
   "execution_count": 43,
   "id": "universal-facial",
   "metadata": {},
   "outputs": [
    {
     "name": "stdout",
     "output_type": "stream",
     "text": [
      "Top 20 Most Frequently Ordered Products:\n",
      "product_id  product_name            \n",
      "24852       Banana                      66050\n",
      "13176       Bag of Organic Bananas      53297\n",
      "21137       Organic Strawberries        37039\n",
      "21903       Organic Baby Spinach        33971\n",
      "47209       Organic Hass Avocado        29773\n",
      "47766       Organic Avocado             24689\n",
      "47626       Large Lemon                 21495\n",
      "16797       Strawberries                20018\n",
      "26209       Limes                       19690\n",
      "27845       Organic Whole Milk          19600\n",
      "27966       Organic Raspberries         19197\n",
      "22935       Organic Yellow Onion        15898\n",
      "24964       Organic Garlic              15292\n",
      "45007       Organic Zucchini            14584\n",
      "39275       Organic Blueberries         13879\n",
      "49683       Cucumber Kirby              13675\n",
      "28204       Organic Fuji Apple          12544\n",
      "5876        Organic Lemon               12232\n",
      "8277        Apple Honeycrisp Organic    11993\n",
      "40706       Organic Grape Tomatoes      11781\n",
      "dtype: int64\n"
     ]
    }
   ],
   "source": [
    "top_products_with_ids = merged_orders.groupby(['product_id', 'product_name']).size().sort_values(ascending=False).head(20)\n",
    "print(\"Top 20 Most Frequently Ordered Products:\")\n",
    "print(top_products_with_ids)\n"
   ]
  },
  {
   "cell_type": "markdown",
   "id": "7df00f47",
   "metadata": {},
   "source": []
  },
  {
   "cell_type": "markdown",
   "id": "romantic-deposit",
   "metadata": {},
   "source": [
    "### [C1] How many items do people typically buy in one order? What does the distribution look like?"
   ]
  },
  {
   "cell_type": "code",
   "execution_count": 44,
   "id": "virtual-punch",
   "metadata": {},
   "outputs": [
    {
     "name": "stdout",
     "output_type": "stream",
     "text": [
      "Average items per order: 10.097125627158112\n"
     ]
    },
    {
     "data": {
      "image/png": "[encoded data removed]",
      "text/plain": [
       "<Figure size 600x400 with 1 Axes>"
      ]
     },
     "metadata": {},
     "output_type": "display_data"
    }
   ],
   "source": [
    "# Merge order_products with instacart_orders to get complete order details\n",
    "merged_data = pd.merge(order_products, orders, on='order_id')\n",
    "\n",
    "# Exclude rows where add_to_cart_order is 999\n",
    "cleaned_data = merged_data[merged_data['add_to_cart_order'] != 999]\n",
    "\n",
    "# Calculate number of items per order\n",
    "items_per_order = cleaned_data.groupby('order_id')['add_to_cart_order'].count()\n",
    "\n",
    "# Calculate average items per order\n",
    "avg_items_per_order = items_per_order.mean()\n",
    "print(\"Average items per order:\", avg_items_per_order)\n",
    "\n",
    "# Plot distribution of items per order\n",
    "plt.figure(figsize=(6, 4))\n",
    "items_per_order.hist(bins=50, color='blue')\n",
    "plt.title('Distribution of Items per Order')\n",
    "plt.xlabel('Number of Items')\n",
    "plt.ylabel('Frequency')\n",
    "plt.show()"
   ]
  },
  {
   "cell_type": "code",
   "execution_count": 57,
   "id": "564ac183",
   "metadata": {},
   "outputs": [
    {
     "data": {
      "image/png": "[encoded data removed]",
      "text/plain": [
       "<Figure size 800x400 with 1 Axes>"
      ]
     },
     "metadata": {},
     "output_type": "display_data"
    }
   ],
   "source": [
    "# ADDED BY REVIEWER\n",
    "merged_data = pd.merge(order_products, orders, on='order_id')\n",
    "\n",
    "items_per_order = merged_data.groupby('order_id')['add_to_cart_order'].count().reset_index()\n",
    "\n",
    "items_per_order = items_per_order['add_to_cart_order'].value_counts().reset_index()\n",
    "\n",
    "\n",
    "# Plot distribution of items per order\n",
    "items_per_order.sort_values(by='index').plot(x='index', y='add_to_cart_order', color='blue', figsize=(8, 4))\n",
    "plt.title('Distribution of Items per Order')\n",
    "plt.xlabel('Number of Items')\n",
    "plt.ylabel('Frequency')\n",
    "plt.legend('')\n",
    "plt.show()"
   ]
  },
  {
   "cell_type": "markdown",
   "id": "6b9ff2eb",
   "metadata": {},
   "source": [
    "#### Average number of items per order: 10.097125627158112"
   ]
  },
  {
   "cell_type": "markdown",
   "id": "5e6b5537",
   "metadata": {},
   "source": [
    "### [C2] What are the top 20 items that are reordered most frequently (display their names and product IDs)?"
   ]
  },
  {
   "cell_type": "code",
   "execution_count": null,
   "id": "9374e55a",
   "metadata": {},
   "outputs": [],
   "source": [
    "# Merge order_products with products to get product names\n",
    "merged_data = pd.merge(order_products, products[['product_id', 'product_name']], on='product_id')\n",
    "\n",
    "# Calculate the number of reorders for each product\n",
    "reorder_counts = merged_data[merged_data['reordered'] == 1].groupby('product_id')['reordered'].count().reset_index()\n",
    "\n",
    "# Merge with products dataframe to get product names\n",
    "top_reorder_items = pd.merge(reorder_counts, products[['product_id', 'product_name']], on='product_id')\n",
    "\n",
    "# Sort by the number of reorders in descending order and get the top 20 items\n",
    "top_reorder_items = top_reorder_items.sort_values(by='reordered', ascending=False).head(20)\n",
    "\n",
    "# Display top 20 items reordered most frequently\n",
    "print(\"Top 20 Items Reordered Most Frequently:\")\n",
    "top_reorder_items[['product_id', 'product_name', 'reordered']]\n"
   ]
  },
  {
   "cell_type": "markdown",
   "id": "84411093",
   "metadata": {},
   "source": [
    "#### It look likes Banana is the most reordered product."
   ]
  },
  {
   "cell_type": "markdown",
   "id": "9d312b14",
   "metadata": {},
   "source": [
    "### [C3] For each product, what proportion of its orders are reorders?"
   ]
  },
  {
   "cell_type": "code",
   "execution_count": 46,
   "id": "8ae9f4b1",
   "metadata": {},
   "outputs": [
    {
     "name": "stdout",
     "output_type": "stream",
     "text": [
      "Proportion of Orders that are Reorders for Each Product:\n",
      "       product_id                                       product_name  \\\n",
      "0               1                         Chocolate Sandwich Cookies   \n",
      "1               2                                   All-Seasons Salt   \n",
      "2               3               Robust Golden Unsweetened Oolong Tea   \n",
      "3               4  Smart Ones Classic Favorites Mini Rigatoni Wit...   \n",
      "4               7                     Pure Coconut Water With Orange   \n",
      "...           ...                                                ...   \n",
      "45568       49690                      HIGH PERFORMANCE ENERGY DRINK   \n",
      "45569       49691                      ORIGINAL PANCAKE & WAFFLE MIX   \n",
      "45570       49692    ORGANIC INSTANT OATMEAL LIGHT MAPLE BROWN SUGAR   \n",
      "45571       49693                             SPRING WATER BODY WASH   \n",
      "45572       49694                            BURRITO- STEAK & CHEESE   \n",
      "\n",
      "       reorder_proportion  \n",
      "0                0.564286  \n",
      "1                0.000000  \n",
      "2                0.738095  \n",
      "3                0.510204  \n",
      "4                0.500000  \n",
      "...                   ...  \n",
      "45568            0.800000  \n",
      "45569            0.430556  \n",
      "45570            0.416667  \n",
      "45571            0.440000  \n",
      "45572            0.333333  \n",
      "\n",
      "[45573 rows x 3 columns]\n"
     ]
    }
   ],
   "source": [
    "# Calculate reorder proportion for each product\n",
    "product_reorder_proportion = merged_data.groupby('product_id')['reordered'].agg(['mean', 'count'])\n",
    "product_reorder_proportion.reset_index(inplace=True)\n",
    "\n",
    "# Merge with products dataframe to get product names\n",
    "product_reorder_proportion = pd.merge(products[['product_id', 'product_name']], product_reorder_proportion, on='product_id')\n",
    "\n",
    "# Rename columns for clarity\n",
    "product_reorder_proportion.rename(columns={'mean': 'reorder_proportion', 'count': 'total_orders'}, inplace=True)\n",
    "\n",
    "# Display table with product ID, product name, and reorder proportion\n",
    "print(\"Proportion of Orders that are Reorders for Each Product:\")\n",
    "print(product_reorder_proportion[['product_id', 'product_name', 'reorder_proportion']])\n"
   ]
  },
  {
   "cell_type": "code",
   "execution_count": null,
   "id": "4eb6b2d6",
   "metadata": {},
   "outputs": [],
   "source": [
    "#ADDED BY REVIEWER\n",
    "\n",
    "#Upload the dataframes. You can skip that step and use your own dataframes\n",
    "df_order_products = pd.read_csv('/datasets/order_products.csv', sep=';')\n",
    "df_products = pd.read_csv('/datasets/products.csv', sep=';')\n",
    "\n",
    "#Merge sales and products\n",
    "reorder_pct = df_order_products.merge(df_products)\n",
    "\n",
    "#Get the reorder ratio\n",
    "reorder_pct = reorder_pct.groupby(['product_id', 'product_name'])['reordered'].mean().to_frame()\n",
    "\n",
    "#Format the output\n",
    "reorder_pct.head(20).style.format({'reordered': '{:.1%}'})"
   ]
  },
  {
   "cell_type": "markdown",
   "id": "92d35137",
   "metadata": {},
   "source": [
    "### [C5] What are the top 20 items that people put in their carts first? "
   ]
  },
  {
   "cell_type": "code",
   "execution_count": null,
   "id": "0ae57274",
   "metadata": {},
   "outputs": [],
   "source": [
    "# Group by product_id to find the number of times each product was the first item added to cart\n",
    "first_in_cart_counts = merged_data[merged_data['add_to_cart_order'] == 1]['product_id'].value_counts().reset_index()\n",
    "first_in_cart_counts.columns = ['product_id', 'first_in_cart_count']\n",
    "\n",
    "# Merge with products dataframe to get product names\n",
    "top_first_in_cart = pd.merge(products[['product_id', 'product_name']], first_in_cart_counts, on='product_id', how='right')\n",
    "\n",
    "# Sort and display top 20 items that are first in cart\n",
    "top_first_in_cart = top_first_in_cart.sort_values(by='first_in_cart_count', ascending=False).head(20)\n",
    "print(\"Top 20 Items that are Most Frequently Added First to Cart:\")\n",
    "print(top_first_in_cart[['product_id', 'product_name', 'first_in_cart_count']])\n"
   ]
  },
  {
   "cell_type": "markdown",
   "id": "28ce9872",
   "metadata": {},
   "source": []
  },
  {
   "cell_type": "markdown",
   "id": "ecc454a3",
   "metadata": {},
   "source": [
    "## Conclusion\n",
    "\n",
    "After cleaning up all the data sets and filling in the missing values needed before aggregating the data, the results are as follow:\n",
    "\n",
    " - There might be a techincal issues preventing customer from adding more than 64 items to their cart.\n",
    " - The range from 10am to 3pm are the most active times people shop for groceries.\n",
    " - People typically wait 7 days before placing their next order.\n",
    " - Most customers placed less than 10 orders.\n",
    " - Average items per order is around 10.\n",
    " - Banana is the most frequently ordered product with 66050 orders and also top of the reorder list with 55673 reordered.\n",
    "\n",
    "    \n"
   ]
  }
 ],
 "metadata": {
  "ExecuteTimeLog": [
   {
    "duration": 1539,
    "start_time": "2024-07-12T03:18:41.694Z"
   },
   {
    "duration": 124,
    "start_time": "2024-07-12T03:29:36.553Z"
   },
   {
    "duration": 132,
    "start_time": "2024-07-12T03:29:44.113Z"
   },
   {
    "duration": 138,
    "start_time": "2024-07-12T03:30:08.218Z"
   },
   {
    "duration": 10,
    "start_time": "2024-07-12T03:34:05.521Z"
   },
   {
    "duration": 606,
    "start_time": "2024-07-12T03:44:03.592Z"
   },
   {
    "duration": 211,
    "start_time": "2024-07-12T03:46:20.491Z"
   },
   {
    "duration": 110,
    "start_time": "2024-07-12T03:47:53.096Z"
   },
   {
    "duration": 88,
    "start_time": "2024-07-12T03:48:12.970Z"
   },
   {
    "duration": 32,
    "start_time": "2024-07-12T03:49:06.100Z"
   },
   {
    "duration": 19,
    "start_time": "2024-07-12T03:49:20.065Z"
   },
   {
    "duration": 24,
    "start_time": "2024-07-12T03:50:57.973Z"
   },
   {
    "duration": 1376,
    "start_time": "2024-07-12T03:51:00.533Z"
   },
   {
    "duration": 178,
    "start_time": "2024-07-12T03:55:49.755Z"
   },
   {
    "duration": 22,
    "start_time": "2024-07-12T03:58:52.276Z"
   },
   {
    "duration": 169,
    "start_time": "2024-07-12T04:01:22.868Z"
   },
   {
    "duration": 164,
    "start_time": "2024-07-12T04:05:08.978Z"
   },
   {
    "duration": 167,
    "start_time": "2024-07-12T04:06:07.422Z"
   },
   {
    "duration": 100,
    "start_time": "2024-07-12T04:08:04.905Z"
   },
   {
    "duration": 23,
    "start_time": "2024-07-12T04:11:24.291Z"
   },
   {
    "duration": 8,
    "start_time": "2024-07-12T04:13:28.492Z"
   },
   {
    "duration": 38,
    "start_time": "2024-07-12T04:15:50.169Z"
   },
   {
    "duration": 31,
    "start_time": "2024-07-12T04:17:38.739Z"
   },
   {
    "duration": 27,
    "start_time": "2024-07-12T04:19:01.739Z"
   },
   {
    "duration": 1346,
    "start_time": "2024-07-12T04:21:43.367Z"
   },
   {
    "duration": 1375,
    "start_time": "2024-07-12T04:21:46.399Z"
   },
   {
    "duration": 1363,
    "start_time": "2024-07-12T04:22:45.622Z"
   },
   {
    "duration": 23,
    "start_time": "2024-07-12T04:31:30.902Z"
   },
   {
    "duration": 13,
    "start_time": "2024-07-12T04:31:36.678Z"
   },
   {
    "duration": 10,
    "start_time": "2024-07-12T04:31:40.307Z"
   },
   {
    "duration": 16,
    "start_time": "2024-07-12T04:31:52.547Z"
   },
   {
    "duration": 330,
    "start_time": "2024-07-12T12:04:06.950Z"
   },
   {
    "duration": 22,
    "start_time": "2024-07-12T12:04:45.253Z"
   },
   {
    "duration": 22,
    "start_time": "2024-07-12T12:04:52.010Z"
   },
   {
    "duration": 858,
    "start_time": "2024-07-12T12:05:06.314Z"
   },
   {
    "duration": 92,
    "start_time": "2024-07-12T12:05:09.048Z"
   },
   {
    "duration": 20,
    "start_time": "2024-07-12T12:05:12.707Z"
   },
   {
    "duration": 23,
    "start_time": "2024-07-12T12:05:13.338Z"
   },
   {
    "duration": 1522,
    "start_time": "2024-07-12T12:05:13.840Z"
   },
   {
    "duration": 190,
    "start_time": "2024-07-12T12:05:48.275Z"
   },
   {
    "duration": 18,
    "start_time": "2024-07-12T12:05:52.530Z"
   },
   {
    "duration": 231,
    "start_time": "2024-07-12T12:05:56.191Z"
   },
   {
    "duration": 213,
    "start_time": "2024-07-12T12:05:58.097Z"
   },
   {
    "duration": 102,
    "start_time": "2024-07-12T12:05:59.641Z"
   },
   {
    "duration": 32,
    "start_time": "2024-07-12T12:06:16.989Z"
   },
   {
    "duration": 17,
    "start_time": "2024-07-12T12:06:27.747Z"
   },
   {
    "duration": 41,
    "start_time": "2024-07-12T12:06:50.751Z"
   },
   {
    "duration": 96,
    "start_time": "2024-07-12T12:07:10.569Z"
   },
   {
    "duration": 32,
    "start_time": "2024-07-12T12:07:54.457Z"
   },
   {
    "duration": 41,
    "start_time": "2024-07-12T12:08:04.962Z"
   },
   {
    "duration": 25,
    "start_time": "2024-07-12T12:08:34.446Z"
   },
   {
    "duration": 33,
    "start_time": "2024-07-12T12:09:31.788Z"
   },
   {
    "duration": 8,
    "start_time": "2024-07-12T12:11:54.531Z"
   },
   {
    "duration": 29,
    "start_time": "2024-07-12T12:12:01.308Z"
   },
   {
    "duration": 497,
    "start_time": "2024-07-12T12:12:19.432Z"
   },
   {
    "duration": 33,
    "start_time": "2024-07-12T12:14:05.948Z"
   },
   {
    "duration": 24,
    "start_time": "2024-07-12T12:21:09.959Z"
   },
   {
    "duration": 7,
    "start_time": "2024-07-12T12:22:31.027Z"
   },
   {
    "duration": 8,
    "start_time": "2024-07-12T12:26:08.685Z"
   },
   {
    "duration": 5,
    "start_time": "2024-07-12T12:27:19.646Z"
   },
   {
    "duration": 6,
    "start_time": "2024-07-12T12:28:19.657Z"
   },
   {
    "duration": 8,
    "start_time": "2024-07-12T12:28:30.824Z"
   },
   {
    "duration": 27,
    "start_time": "2024-07-12T12:29:02.686Z"
   },
   {
    "duration": 7,
    "start_time": "2024-07-12T12:29:18.935Z"
   },
   {
    "duration": 16,
    "start_time": "2024-07-12T12:30:15.533Z"
   },
   {
    "duration": 7,
    "start_time": "2024-07-12T12:37:37.409Z"
   },
   {
    "duration": 34,
    "start_time": "2024-07-12T12:41:54.478Z"
   },
   {
    "duration": 48,
    "start_time": "2024-07-12T12:43:31.343Z"
   },
   {
    "duration": 1168,
    "start_time": "2024-07-12T12:45:06.275Z"
   },
   {
    "duration": 0,
    "start_time": "2024-07-12T12:45:07.445Z"
   },
   {
    "duration": 1422,
    "start_time": "2024-07-12T12:48:20.724Z"
   },
   {
    "duration": 1254,
    "start_time": "2024-07-12T12:48:42.782Z"
   },
   {
    "duration": 30,
    "start_time": "2024-07-12T12:49:05.609Z"
   },
   {
    "duration": 50,
    "start_time": "2024-07-12T12:49:12.760Z"
   },
   {
    "duration": 21,
    "start_time": "2024-07-12T12:50:14.290Z"
   },
   {
    "duration": 12,
    "start_time": "2024-07-12T12:51:55.205Z"
   },
   {
    "duration": 106,
    "start_time": "2024-07-12T12:52:49.005Z"
   },
   {
    "duration": 41,
    "start_time": "2024-07-12T12:54:50.894Z"
   },
   {
    "duration": 43,
    "start_time": "2024-07-12T12:58:13.958Z"
   },
   {
    "duration": 15,
    "start_time": "2024-07-12T12:58:45.089Z"
   },
   {
    "duration": 9,
    "start_time": "2024-07-12T13:00:59.648Z"
   },
   {
    "duration": 10,
    "start_time": "2024-07-12T13:01:35.411Z"
   },
   {
    "duration": 4630,
    "start_time": "2024-07-12T13:01:46.144Z"
   },
   {
    "duration": 617,
    "start_time": "2024-07-12T13:09:02.837Z"
   },
   {
    "duration": 852,
    "start_time": "2024-07-12T13:11:24.387Z"
   },
   {
    "duration": 617,
    "start_time": "2024-07-12T13:12:32.360Z"
   },
   {
    "duration": 38,
    "start_time": "2024-07-12T13:18:08.358Z"
   },
   {
    "duration": 448,
    "start_time": "2024-07-12T13:18:41.305Z"
   },
   {
    "duration": 458,
    "start_time": "2024-07-12T13:21:22.056Z"
   },
   {
    "duration": 482,
    "start_time": "2024-07-12T13:27:23.075Z"
   },
   {
    "duration": 6,
    "start_time": "2024-07-12T13:35:11.029Z"
   },
   {
    "duration": 351,
    "start_time": "2024-07-12T13:40:18.912Z"
   },
   {
    "duration": 2958,
    "start_time": "2024-07-12T13:52:04.078Z"
   },
   {
    "duration": 1682,
    "start_time": "2024-07-12T13:53:43.546Z"
   },
   {
    "duration": 1798,
    "start_time": "2024-07-12T13:54:05.007Z"
   },
   {
    "duration": 496,
    "start_time": "2024-07-12T13:57:40.568Z"
   },
   {
    "duration": 198,
    "start_time": "2024-07-12T13:58:10.283Z"
   },
   {
    "duration": 110,
    "start_time": "2024-07-12T13:58:17.434Z"
   },
   {
    "duration": 17,
    "start_time": "2024-07-12T13:58:21.567Z"
   },
   {
    "duration": 201,
    "start_time": "2024-07-12T13:58:46.051Z"
   },
   {
    "duration": 63,
    "start_time": "2024-07-12T13:58:46.274Z"
   },
   {
    "duration": 15,
    "start_time": "2024-07-12T13:58:46.622Z"
   },
   {
    "duration": 19,
    "start_time": "2024-07-12T13:58:46.903Z"
   },
   {
    "duration": 1316,
    "start_time": "2024-07-12T13:58:47.070Z"
   },
   {
    "duration": 165,
    "start_time": "2024-07-12T13:58:48.390Z"
   },
   {
    "duration": 15,
    "start_time": "2024-07-12T13:58:48.686Z"
   },
   {
    "duration": 153,
    "start_time": "2024-07-12T13:58:48.888Z"
   },
   {
    "duration": 157,
    "start_time": "2024-07-12T13:58:49.087Z"
   },
   {
    "duration": 98,
    "start_time": "2024-07-12T13:58:49.280Z"
   },
   {
    "duration": 28,
    "start_time": "2024-07-12T13:58:50.479Z"
   },
   {
    "duration": 9,
    "start_time": "2024-07-12T13:58:50.713Z"
   },
   {
    "duration": 39,
    "start_time": "2024-07-12T13:58:50.944Z"
   },
   {
    "duration": 31,
    "start_time": "2024-07-12T13:58:51.628Z"
   },
   {
    "duration": 1338,
    "start_time": "2024-07-12T13:58:57.052Z"
   },
   {
    "duration": 1314,
    "start_time": "2024-07-12T13:58:58.394Z"
   },
   {
    "duration": 14,
    "start_time": "2024-07-12T13:58:59.712Z"
   },
   {
    "duration": 7,
    "start_time": "2024-07-12T13:58:59.730Z"
   },
   {
    "duration": 7,
    "start_time": "2024-07-12T13:58:59.741Z"
   },
   {
    "duration": 53,
    "start_time": "2024-07-12T13:58:59.752Z"
   },
   {
    "duration": 15,
    "start_time": "2024-07-12T13:58:59.809Z"
   },
   {
    "duration": 8,
    "start_time": "2024-07-12T13:58:59.896Z"
   },
   {
    "duration": 28,
    "start_time": "2024-07-12T13:59:00.582Z"
   },
   {
    "duration": 50,
    "start_time": "2024-07-12T13:59:00.893Z"
   },
   {
    "duration": 21,
    "start_time": "2024-07-12T13:59:01.424Z"
   },
   {
    "duration": 103,
    "start_time": "2024-07-12T13:59:01.926Z"
   },
   {
    "duration": 241,
    "start_time": "2024-07-12T13:59:02.609Z"
   },
   {
    "duration": 113,
    "start_time": "2024-07-12T13:59:15.666Z"
   },
   {
    "duration": 104,
    "start_time": "2024-07-12T13:59:59.271Z"
   },
   {
    "duration": 112,
    "start_time": "2024-07-12T14:00:02.527Z"
   },
   {
    "duration": 40,
    "start_time": "2024-07-12T14:01:01.716Z"
   },
   {
    "duration": 162,
    "start_time": "2024-07-12T14:01:09.346Z"
   },
   {
    "duration": 8,
    "start_time": "2024-07-12T14:01:19.547Z"
   },
   {
    "duration": 16,
    "start_time": "2024-07-12T14:01:20.170Z"
   },
   {
    "duration": 8,
    "start_time": "2024-07-12T14:01:26.435Z"
   },
   {
    "duration": 28,
    "start_time": "2024-07-12T14:01:29.377Z"
   },
   {
    "duration": 18,
    "start_time": "2024-07-12T14:01:29.814Z"
   },
   {
    "duration": 8,
    "start_time": "2024-07-12T14:01:30.551Z"
   },
   {
    "duration": 103,
    "start_time": "2024-07-12T14:01:31.408Z"
   },
   {
    "duration": 33,
    "start_time": "2024-07-12T14:01:35.054Z"
   },
   {
    "duration": 8,
    "start_time": "2024-07-12T14:01:40.921Z"
   },
   {
    "duration": 624,
    "start_time": "2024-07-12T14:01:41.537Z"
   },
   {
    "duration": 444,
    "start_time": "2024-07-12T14:01:49.944Z"
   },
   {
    "duration": 503,
    "start_time": "2024-07-12T14:01:58.101Z"
   },
   {
    "duration": 360,
    "start_time": "2024-07-12T14:02:05.698Z"
   },
   {
    "duration": 1759,
    "start_time": "2024-07-12T14:02:15.090Z"
   },
   {
    "duration": 1512,
    "start_time": "2024-07-12T14:16:52.808Z"
   },
   {
    "duration": 1262,
    "start_time": "2024-07-12T14:16:58.526Z"
   },
   {
    "duration": 1228,
    "start_time": "2024-07-12T14:21:14.935Z"
   },
   {
    "duration": 1273,
    "start_time": "2024-07-12T14:21:25.749Z"
   },
   {
    "duration": 1239,
    "start_time": "2024-07-12T14:21:41.629Z"
   },
   {
    "duration": 1234,
    "start_time": "2024-07-12T14:22:05.491Z"
   },
   {
    "duration": 1212,
    "start_time": "2024-07-12T14:22:37.833Z"
   },
   {
    "duration": 1593,
    "start_time": "2024-07-12T14:23:04.259Z"
   },
   {
    "duration": 1482,
    "start_time": "2024-07-12T14:29:52.285Z"
   },
   {
    "duration": 1491,
    "start_time": "2024-07-12T14:32:16.362Z"
   },
   {
    "duration": 2040,
    "start_time": "2024-07-12T14:33:44.211Z"
   },
   {
    "duration": 2140,
    "start_time": "2024-07-12T14:34:10.276Z"
   },
   {
    "duration": 560,
    "start_time": "2024-07-12T14:34:30.687Z"
   },
   {
    "duration": 1555,
    "start_time": "2024-07-12T14:34:49.812Z"
   },
   {
    "duration": 578,
    "start_time": "2024-07-12T14:35:49.293Z"
   },
   {
    "duration": 28,
    "start_time": "2024-07-12T14:39:57.485Z"
   },
   {
    "duration": 2121,
    "start_time": "2024-07-12T14:40:27.185Z"
   },
   {
    "duration": 2077,
    "start_time": "2024-07-12T14:41:00.532Z"
   },
   {
    "duration": 2095,
    "start_time": "2024-07-12T14:41:14.623Z"
   },
   {
    "duration": 2337,
    "start_time": "2024-07-12T14:41:54.597Z"
   },
   {
    "duration": 1977,
    "start_time": "2024-07-12T14:42:09.039Z"
   },
   {
    "duration": 2029,
    "start_time": "2024-07-12T14:42:45.151Z"
   },
   {
    "duration": 1535,
    "start_time": "2024-07-12T14:43:16.668Z"
   },
   {
    "duration": 1554,
    "start_time": "2024-07-12T14:43:26.070Z"
   },
   {
    "duration": 2042,
    "start_time": "2024-07-12T14:44:40.941Z"
   },
   {
    "duration": 207,
    "start_time": "2024-07-12T14:45:14.750Z"
   },
   {
    "duration": 470,
    "start_time": "2024-07-12T14:48:23.134Z"
   },
   {
    "duration": 292,
    "start_time": "2024-07-12T14:49:20.033Z"
   },
   {
    "duration": 931,
    "start_time": "2024-07-12T14:52:12.582Z"
   },
   {
    "duration": 931,
    "start_time": "2024-07-12T14:52:42.975Z"
   },
   {
    "duration": 705,
    "start_time": "2024-07-12T18:23:59.624Z"
   },
   {
    "duration": 102,
    "start_time": "2024-07-12T18:24:00.332Z"
   },
   {
    "duration": 19,
    "start_time": "2024-07-12T18:24:00.437Z"
   },
   {
    "duration": 19,
    "start_time": "2024-07-12T18:24:00.459Z"
   },
   {
    "duration": 1315,
    "start_time": "2024-07-12T18:24:00.484Z"
   },
   {
    "duration": 203,
    "start_time": "2024-07-12T18:24:01.802Z"
   },
   {
    "duration": 17,
    "start_time": "2024-07-12T18:24:02.010Z"
   },
   {
    "duration": 217,
    "start_time": "2024-07-12T18:24:02.030Z"
   },
   {
    "duration": 214,
    "start_time": "2024-07-12T18:24:02.251Z"
   },
   {
    "duration": 118,
    "start_time": "2024-07-12T18:24:02.468Z"
   },
   {
    "duration": 28,
    "start_time": "2024-07-12T18:24:02.589Z"
   },
   {
    "duration": 10,
    "start_time": "2024-07-12T18:24:02.620Z"
   },
   {
    "duration": 42,
    "start_time": "2024-07-12T18:24:02.632Z"
   },
   {
    "duration": 34,
    "start_time": "2024-07-12T18:24:02.713Z"
   },
   {
    "duration": 1512,
    "start_time": "2024-07-12T18:24:02.750Z"
   },
   {
    "duration": 1456,
    "start_time": "2024-07-12T18:24:04.265Z"
   },
   {
    "duration": 18,
    "start_time": "2024-07-12T18:24:05.724Z"
   },
   {
    "duration": 7,
    "start_time": "2024-07-12T18:24:05.746Z"
   },
   {
    "duration": 8,
    "start_time": "2024-07-12T18:24:05.756Z"
   },
   {
    "duration": 49,
    "start_time": "2024-07-12T18:24:05.767Z"
   },
   {
    "duration": 19,
    "start_time": "2024-07-12T18:24:05.820Z"
   },
   {
    "duration": 8,
    "start_time": "2024-07-12T18:24:05.846Z"
   },
   {
    "duration": 78,
    "start_time": "2024-07-12T18:24:05.858Z"
   },
   {
    "duration": 74,
    "start_time": "2024-07-12T18:24:05.939Z"
   },
   {
    "duration": 21,
    "start_time": "2024-07-12T18:24:06.016Z"
   },
   {
    "duration": 372,
    "start_time": "2024-07-12T18:24:06.040Z"
   },
   {
    "duration": 0,
    "start_time": "2024-07-12T18:24:06.415Z"
   },
   {
    "duration": 0,
    "start_time": "2024-07-12T18:24:06.417Z"
   },
   {
    "duration": 0,
    "start_time": "2024-07-12T18:24:06.420Z"
   },
   {
    "duration": 0,
    "start_time": "2024-07-12T18:24:06.422Z"
   },
   {
    "duration": 0,
    "start_time": "2024-07-12T18:24:06.424Z"
   },
   {
    "duration": 0,
    "start_time": "2024-07-12T18:24:06.426Z"
   },
   {
    "duration": 0,
    "start_time": "2024-07-12T18:24:06.428Z"
   },
   {
    "duration": 0,
    "start_time": "2024-07-12T18:24:06.431Z"
   },
   {
    "duration": 0,
    "start_time": "2024-07-12T18:24:06.435Z"
   },
   {
    "duration": 0,
    "start_time": "2024-07-12T18:24:06.438Z"
   },
   {
    "duration": 0,
    "start_time": "2024-07-12T18:24:06.440Z"
   },
   {
    "duration": 0,
    "start_time": "2024-07-12T18:24:06.442Z"
   },
   {
    "duration": 41,
    "start_time": "2024-07-12T18:52:20.954Z"
   },
   {
    "duration": 9,
    "start_time": "2024-07-12T18:52:26.690Z"
   },
   {
    "duration": 1142,
    "start_time": "2024-07-12T18:52:43.936Z"
   },
   {
    "duration": 550,
    "start_time": "2024-07-12T18:53:55.027Z"
   },
   {
    "duration": 551,
    "start_time": "2024-07-12T18:54:16.924Z"
   },
   {
    "duration": 407,
    "start_time": "2024-07-12T18:54:36.590Z"
   },
   {
    "duration": 15,
    "start_time": "2024-07-12T18:55:33.967Z"
   },
   {
    "duration": 1973,
    "start_time": "2024-07-12T18:55:54.560Z"
   },
   {
    "duration": 594,
    "start_time": "2024-07-12T18:55:56.537Z"
   },
   {
    "duration": 321,
    "start_time": "2024-07-12T18:56:02.122Z"
   },
   {
    "duration": 29,
    "start_time": "2024-07-12T18:56:26.520Z"
   },
   {
    "duration": 759,
    "start_time": "2024-07-12T18:56:34.089Z"
   },
   {
    "duration": 108,
    "start_time": "2024-07-12T18:56:34.853Z"
   },
   {
    "duration": 18,
    "start_time": "2024-07-12T18:56:34.964Z"
   },
   {
    "duration": 32,
    "start_time": "2024-07-12T18:56:34.985Z"
   },
   {
    "duration": 1371,
    "start_time": "2024-07-12T18:56:35.023Z"
   },
   {
    "duration": 184,
    "start_time": "2024-07-12T18:56:36.397Z"
   },
   {
    "duration": 32,
    "start_time": "2024-07-12T18:56:36.585Z"
   },
   {
    "duration": 194,
    "start_time": "2024-07-12T18:56:36.620Z"
   },
   {
    "duration": 198,
    "start_time": "2024-07-12T18:56:36.818Z"
   },
   {
    "duration": 104,
    "start_time": "2024-07-12T18:56:37.020Z"
   },
   {
    "duration": 21,
    "start_time": "2024-07-12T18:56:37.127Z"
   },
   {
    "duration": 9,
    "start_time": "2024-07-12T18:56:37.152Z"
   },
   {
    "duration": 67,
    "start_time": "2024-07-12T18:56:37.164Z"
   },
   {
    "duration": 32,
    "start_time": "2024-07-12T18:56:37.237Z"
   },
   {
    "duration": 1428,
    "start_time": "2024-07-12T18:56:37.272Z"
   },
   {
    "duration": 1400,
    "start_time": "2024-07-12T18:56:38.710Z"
   },
   {
    "duration": 18,
    "start_time": "2024-07-12T18:56:40.113Z"
   },
   {
    "duration": 7,
    "start_time": "2024-07-12T18:56:40.134Z"
   },
   {
    "duration": 6,
    "start_time": "2024-07-12T18:56:40.144Z"
   },
   {
    "duration": 8,
    "start_time": "2024-07-12T18:56:40.153Z"
   },
   {
    "duration": 17,
    "start_time": "2024-07-12T18:56:40.211Z"
   },
   {
    "duration": 9,
    "start_time": "2024-07-12T18:56:40.232Z"
   },
   {
    "duration": 72,
    "start_time": "2024-07-12T18:56:40.243Z"
   },
   {
    "duration": 49,
    "start_time": "2024-07-12T18:56:40.318Z"
   },
   {
    "duration": 51,
    "start_time": "2024-07-12T18:56:40.370Z"
   },
   {
    "duration": 355,
    "start_time": "2024-07-12T18:56:40.425Z"
   },
   {
    "duration": 0,
    "start_time": "2024-07-12T18:56:40.784Z"
   },
   {
    "duration": 0,
    "start_time": "2024-07-12T18:56:40.786Z"
   },
   {
    "duration": 0,
    "start_time": "2024-07-12T18:56:40.789Z"
   },
   {
    "duration": 0,
    "start_time": "2024-07-12T18:56:40.791Z"
   },
   {
    "duration": 0,
    "start_time": "2024-07-12T18:56:40.810Z"
   },
   {
    "duration": 0,
    "start_time": "2024-07-12T18:56:40.812Z"
   },
   {
    "duration": 0,
    "start_time": "2024-07-12T18:56:40.814Z"
   },
   {
    "duration": 0,
    "start_time": "2024-07-12T18:56:40.817Z"
   },
   {
    "duration": 0,
    "start_time": "2024-07-12T18:56:40.819Z"
   },
   {
    "duration": 0,
    "start_time": "2024-07-12T18:56:40.821Z"
   },
   {
    "duration": 0,
    "start_time": "2024-07-12T18:56:40.824Z"
   },
   {
    "duration": 0,
    "start_time": "2024-07-12T18:56:40.826Z"
   },
   {
    "duration": 0,
    "start_time": "2024-07-12T18:56:40.829Z"
   },
   {
    "duration": 734,
    "start_time": "2024-07-12T18:56:57.727Z"
   },
   {
    "duration": 2028,
    "start_time": "2024-07-12T18:57:57.520Z"
   },
   {
    "duration": 40,
    "start_time": "2024-07-12T18:58:18.077Z"
   },
   {
    "duration": 10,
    "start_time": "2024-07-12T18:58:19.087Z"
   },
   {
    "duration": 670,
    "start_time": "2024-07-12T18:58:19.468Z"
   },
   {
    "duration": 714,
    "start_time": "2024-07-12T19:08:14.870Z"
   },
   {
    "duration": 20,
    "start_time": "2024-07-12T19:17:33.908Z"
   },
   {
    "duration": 336,
    "start_time": "2024-07-12T19:18:41.633Z"
   },
   {
    "duration": 25,
    "start_time": "2024-07-12T19:18:48.568Z"
   },
   {
    "duration": 105,
    "start_time": "2024-07-12T19:19:00.967Z"
   },
   {
    "duration": 19,
    "start_time": "2024-07-12T19:19:01.744Z"
   },
   {
    "duration": 18,
    "start_time": "2024-07-12T19:19:02.225Z"
   },
   {
    "duration": 1355,
    "start_time": "2024-07-12T19:19:02.714Z"
   },
   {
    "duration": 13,
    "start_time": "2024-07-12T19:19:08.408Z"
   },
   {
    "duration": 11,
    "start_time": "2024-07-12T19:19:38.064Z"
   },
   {
    "duration": 10,
    "start_time": "2024-07-12T19:20:09.201Z"
   },
   {
    "duration": 11,
    "start_time": "2024-07-12T19:20:34.507Z"
   },
   {
    "duration": 10,
    "start_time": "2024-07-12T19:20:47.289Z"
   },
   {
    "duration": 9,
    "start_time": "2024-07-12T19:21:00.023Z"
   },
   {
    "duration": 10,
    "start_time": "2024-07-12T19:21:29.162Z"
   },
   {
    "duration": 11,
    "start_time": "2024-07-12T19:21:29.855Z"
   },
   {
    "duration": 194,
    "start_time": "2024-07-12T19:27:09.039Z"
   },
   {
    "duration": 28,
    "start_time": "2024-07-12T19:27:56.515Z"
   },
   {
    "duration": 24,
    "start_time": "2024-07-12T19:29:04.736Z"
   },
   {
    "duration": 185,
    "start_time": "2024-07-12T19:29:16.325Z"
   },
   {
    "duration": 21,
    "start_time": "2024-07-12T19:29:18.518Z"
   },
   {
    "duration": 16,
    "start_time": "2024-07-12T19:29:25.771Z"
   },
   {
    "duration": 17,
    "start_time": "2024-07-12T19:31:51.695Z"
   },
   {
    "duration": 23,
    "start_time": "2024-07-12T19:32:54.333Z"
   },
   {
    "duration": 8,
    "start_time": "2024-07-12T19:33:43.556Z"
   },
   {
    "duration": 17,
    "start_time": "2024-07-12T19:34:00.101Z"
   },
   {
    "duration": 7,
    "start_time": "2024-07-12T19:34:23.761Z"
   },
   {
    "duration": 17,
    "start_time": "2024-07-12T19:36:40.519Z"
   },
   {
    "duration": 189,
    "start_time": "2024-07-12T19:39:01.320Z"
   },
   {
    "duration": 223,
    "start_time": "2024-07-12T19:39:56.065Z"
   },
   {
    "duration": 181,
    "start_time": "2024-07-12T19:44:09.767Z"
   },
   {
    "duration": 81,
    "start_time": "2024-07-12T19:44:11.599Z"
   },
   {
    "duration": 7,
    "start_time": "2024-07-12T19:52:06.936Z"
   },
   {
    "duration": 13,
    "start_time": "2024-07-12T19:53:48.208Z"
   },
   {
    "duration": 7,
    "start_time": "2024-07-12T19:54:48.805Z"
   },
   {
    "duration": 7,
    "start_time": "2024-07-12T19:54:56.548Z"
   },
   {
    "duration": 8,
    "start_time": "2024-07-12T19:56:45.824Z"
   },
   {
    "duration": 8,
    "start_time": "2024-07-12T19:57:03.843Z"
   },
   {
    "duration": 8,
    "start_time": "2024-07-12T19:57:31.473Z"
   },
   {
    "duration": 10,
    "start_time": "2024-07-12T20:03:12.473Z"
   },
   {
    "duration": 6,
    "start_time": "2024-07-12T20:05:54.072Z"
   },
   {
    "duration": 8,
    "start_time": "2024-07-12T20:06:10.996Z"
   },
   {
    "duration": 16,
    "start_time": "2024-07-12T20:07:13.689Z"
   },
   {
    "duration": 14,
    "start_time": "2024-07-12T20:07:39.933Z"
   },
   {
    "duration": 16,
    "start_time": "2024-07-12T20:08:07.914Z"
   },
   {
    "duration": 14,
    "start_time": "2024-07-12T20:08:19.521Z"
   },
   {
    "duration": 1169,
    "start_time": "2024-07-12T20:13:32.955Z"
   },
   {
    "duration": 11,
    "start_time": "2024-07-12T20:23:55.526Z"
   },
   {
    "duration": 29,
    "start_time": "2024-07-12T20:27:59.753Z"
   },
   {
    "duration": 50,
    "start_time": "2024-07-12T20:28:06.254Z"
   },
   {
    "duration": 22,
    "start_time": "2024-07-12T20:28:08.421Z"
   },
   {
    "duration": 25,
    "start_time": "2024-07-12T20:28:21.433Z"
   },
   {
    "duration": 500,
    "start_time": "2024-07-12T20:32:01.103Z"
   },
   {
    "duration": 39,
    "start_time": "2024-07-12T20:32:20.230Z"
   },
   {
    "duration": 511,
    "start_time": "2024-07-12T20:34:56.510Z"
   },
   {
    "duration": 4581,
    "start_time": "2024-07-12T20:41:37.137Z"
   },
   {
    "duration": 476,
    "start_time": "2024-07-12T20:41:50.089Z"
   },
   {
    "duration": 484,
    "start_time": "2024-07-12T20:42:05.588Z"
   },
   {
    "duration": 337,
    "start_time": "2024-07-12T20:42:12.953Z"
   },
   {
    "duration": 1843,
    "start_time": "2024-07-12T20:42:21.903Z"
   },
   {
    "duration": 568,
    "start_time": "2024-07-12T20:42:34.730Z"
   },
   {
    "duration": 576,
    "start_time": "2024-07-12T20:42:53.080Z"
   },
   {
    "duration": 561,
    "start_time": "2024-07-12T20:42:57.315Z"
   },
   {
    "duration": 555,
    "start_time": "2024-07-12T20:43:03.266Z"
   },
   {
    "duration": 566,
    "start_time": "2024-07-12T20:43:19.598Z"
   },
   {
    "duration": 2521,
    "start_time": "2024-07-12T20:43:28.940Z"
   },
   {
    "duration": 1187,
    "start_time": "2024-07-12T20:43:43.362Z"
   },
   {
    "duration": 394,
    "start_time": "2024-07-12T20:45:53.401Z"
   },
   {
    "duration": 137,
    "start_time": "2024-07-12T20:46:14.308Z"
   },
   {
    "duration": 761,
    "start_time": "2024-07-13T08:01:08.208Z"
   },
   {
    "duration": 93,
    "start_time": "2024-07-13T08:01:08.974Z"
   },
   {
    "duration": 18,
    "start_time": "2024-07-13T08:01:09.071Z"
   },
   {
    "duration": 18,
    "start_time": "2024-07-13T08:01:09.092Z"
   },
   {
    "duration": 1336,
    "start_time": "2024-07-13T08:01:09.116Z"
   },
   {
    "duration": 21,
    "start_time": "2024-07-13T08:01:10.454Z"
   },
   {
    "duration": 30,
    "start_time": "2024-07-13T08:01:10.478Z"
   },
   {
    "duration": 9,
    "start_time": "2024-07-13T08:01:10.514Z"
   },
   {
    "duration": 9,
    "start_time": "2024-07-13T08:01:10.527Z"
   },
   {
    "duration": 11,
    "start_time": "2024-07-13T08:01:10.540Z"
   },
   {
    "duration": 253,
    "start_time": "2024-07-13T08:01:10.555Z"
   },
   {
    "duration": 28,
    "start_time": "2024-07-13T08:01:10.814Z"
   },
   {
    "duration": 242,
    "start_time": "2024-07-13T08:01:10.846Z"
   },
   {
    "duration": 191,
    "start_time": "2024-07-13T08:01:11.101Z"
   },
   {
    "duration": 110,
    "start_time": "2024-07-13T08:01:11.302Z"
   },
   {
    "duration": 23,
    "start_time": "2024-07-13T08:01:11.415Z"
   },
   {
    "duration": 8,
    "start_time": "2024-07-13T08:01:11.441Z"
   },
   {
    "duration": 73,
    "start_time": "2024-07-13T08:01:11.452Z"
   },
   {
    "duration": 33,
    "start_time": "2024-07-13T08:01:11.528Z"
   },
   {
    "duration": 8,
    "start_time": "2024-07-13T08:01:11.563Z"
   },
   {
    "duration": 8,
    "start_time": "2024-07-13T08:01:11.602Z"
   },
   {
    "duration": 1432,
    "start_time": "2024-07-13T08:01:11.613Z"
   },
   {
    "duration": 1462,
    "start_time": "2024-07-13T08:01:13.048Z"
   },
   {
    "duration": 1238,
    "start_time": "2024-07-13T08:01:14.514Z"
   },
   {
    "duration": 14,
    "start_time": "2024-07-13T08:01:15.755Z"
   },
   {
    "duration": 33,
    "start_time": "2024-07-13T08:01:15.772Z"
   },
   {
    "duration": 6,
    "start_time": "2024-07-13T08:01:15.808Z"
   },
   {
    "duration": 8,
    "start_time": "2024-07-13T08:01:15.818Z"
   },
   {
    "duration": 16,
    "start_time": "2024-07-13T08:01:15.830Z"
   },
   {
    "duration": 61,
    "start_time": "2024-07-13T08:01:15.848Z"
   },
   {
    "duration": 7,
    "start_time": "2024-07-13T08:01:15.912Z"
   },
   {
    "duration": 41,
    "start_time": "2024-07-13T08:01:15.923Z"
   },
   {
    "duration": 84,
    "start_time": "2024-07-13T08:01:15.967Z"
   },
   {
    "duration": 21,
    "start_time": "2024-07-13T08:01:16.054Z"
   },
   {
    "duration": 586,
    "start_time": "2024-07-13T08:01:16.105Z"
   },
   {
    "duration": 46,
    "start_time": "2024-07-13T08:01:16.694Z"
   },
   {
    "duration": 11,
    "start_time": "2024-07-13T08:01:16.743Z"
   },
   {
    "duration": 4732,
    "start_time": "2024-07-13T08:01:16.757Z"
   },
   {
    "duration": 523,
    "start_time": "2024-07-13T08:01:21.492Z"
   },
   {
    "duration": 510,
    "start_time": "2024-07-13T08:01:22.018Z"
   },
   {
    "duration": 358,
    "start_time": "2024-07-13T08:01:22.536Z"
   },
   {
    "duration": 1932,
    "start_time": "2024-07-13T08:01:22.902Z"
   },
   {
    "duration": 599,
    "start_time": "2024-07-13T08:01:24.837Z"
   },
   {
    "duration": 2498,
    "start_time": "2024-07-13T08:01:25.439Z"
   },
   {
    "duration": 1204,
    "start_time": "2024-07-13T08:01:27.940Z"
   },
   {
    "duration": 405,
    "start_time": "2024-07-13T08:01:29.147Z"
   },
   {
    "duration": 155,
    "start_time": "2024-07-13T08:01:29.555Z"
   },
   {
    "duration": 3226,
    "start_time": "2024-07-13T08:09:23.264Z"
   },
   {
    "duration": 311,
    "start_time": "2024-07-13T08:57:12.928Z"
   },
   {
    "duration": 723,
    "start_time": "2024-07-13T08:58:03.708Z"
   },
   {
    "duration": 98,
    "start_time": "2024-07-13T08:58:04.435Z"
   },
   {
    "duration": 17,
    "start_time": "2024-07-13T08:58:04.535Z"
   },
   {
    "duration": 19,
    "start_time": "2024-07-13T08:58:04.557Z"
   },
   {
    "duration": 1380,
    "start_time": "2024-07-13T08:58:04.579Z"
   },
   {
    "duration": 19,
    "start_time": "2024-07-13T08:58:05.970Z"
   },
   {
    "duration": 17,
    "start_time": "2024-07-13T08:58:05.992Z"
   },
   {
    "duration": 10,
    "start_time": "2024-07-13T08:58:06.013Z"
   },
   {
    "duration": 9,
    "start_time": "2024-07-13T08:58:06.026Z"
   },
   {
    "duration": 10,
    "start_time": "2024-07-13T08:58:06.042Z"
   },
   {
    "duration": 197,
    "start_time": "2024-07-13T08:58:06.102Z"
   },
   {
    "duration": 26,
    "start_time": "2024-07-13T08:58:06.303Z"
   },
   {
    "duration": 221,
    "start_time": "2024-07-13T08:58:06.332Z"
   },
   {
    "duration": 191,
    "start_time": "2024-07-13T08:58:06.556Z"
   },
   {
    "duration": 108,
    "start_time": "2024-07-13T08:58:06.750Z"
   },
   {
    "duration": 22,
    "start_time": "2024-07-13T08:58:06.861Z"
   },
   {
    "duration": 23,
    "start_time": "2024-07-13T08:58:06.885Z"
   },
   {
    "duration": 38,
    "start_time": "2024-07-13T08:58:06.911Z"
   },
   {
    "duration": 69,
    "start_time": "2024-07-13T08:58:06.952Z"
   },
   {
    "duration": 7,
    "start_time": "2024-07-13T08:58:07.025Z"
   },
   {
    "duration": 6,
    "start_time": "2024-07-13T08:58:07.035Z"
   },
   {
    "duration": 1425,
    "start_time": "2024-07-13T08:58:07.044Z"
   },
   {
    "duration": 1392,
    "start_time": "2024-07-13T08:58:08.474Z"
   },
   {
    "duration": 1175,
    "start_time": "2024-07-13T08:58:09.870Z"
   },
   {
    "duration": 14,
    "start_time": "2024-07-13T08:58:11.047Z"
   },
   {
    "duration": 10,
    "start_time": "2024-07-13T08:58:11.064Z"
   },
   {
    "duration": 6,
    "start_time": "2024-07-13T08:58:11.103Z"
   },
   {
    "duration": 8,
    "start_time": "2024-07-13T08:58:11.117Z"
   },
   {
    "duration": 17,
    "start_time": "2024-07-13T08:58:11.128Z"
   },
   {
    "duration": 56,
    "start_time": "2024-07-13T08:58:11.147Z"
   },
   {
    "duration": 7,
    "start_time": "2024-07-13T08:58:11.206Z"
   },
   {
    "duration": 30,
    "start_time": "2024-07-13T08:58:11.216Z"
   },
   {
    "duration": 83,
    "start_time": "2024-07-13T08:58:11.249Z"
   },
   {
    "duration": 20,
    "start_time": "2024-07-13T08:58:11.335Z"
   },
   {
    "duration": 553,
    "start_time": "2024-07-13T08:58:11.357Z"
   },
   {
    "duration": 40,
    "start_time": "2024-07-13T08:58:11.913Z"
   },
   {
    "duration": 10,
    "start_time": "2024-07-13T08:58:11.956Z"
   },
   {
    "duration": 4537,
    "start_time": "2024-07-13T08:58:11.969Z"
   },
   {
    "duration": 523,
    "start_time": "2024-07-13T08:58:16.510Z"
   },
   {
    "duration": 504,
    "start_time": "2024-07-13T08:58:17.036Z"
   },
   {
    "duration": 343,
    "start_time": "2024-07-13T08:58:17.543Z"
   },
   {
    "duration": 1977,
    "start_time": "2024-07-13T08:58:17.889Z"
   },
   {
    "duration": 821,
    "start_time": "2024-07-13T08:58:19.869Z"
   },
   {
    "duration": 2457,
    "start_time": "2024-07-13T08:58:20.693Z"
   },
   {
    "duration": 1433,
    "start_time": "2024-07-13T08:58:23.152Z"
   },
   {
    "duration": 497,
    "start_time": "2024-07-13T08:58:24.588Z"
   },
   {
    "duration": 3773,
    "start_time": "2024-07-13T08:58:25.092Z"
   },
   {
    "duration": 159,
    "start_time": "2024-07-13T08:58:28.870Z"
   },
   {
    "duration": 18,
    "start_time": "2024-07-13T08:58:29.037Z"
   },
   {
    "duration": 189,
    "start_time": "2024-07-13T09:00:01.167Z"
   },
   {
    "duration": 176,
    "start_time": "2024-07-13T09:00:31.261Z"
   },
   {
    "duration": 87,
    "start_time": "2024-07-13T09:00:32.310Z"
   },
   {
    "duration": 3554,
    "start_time": "2024-07-13T09:04:01.007Z"
   },
   {
    "duration": 1375,
    "start_time": "2024-07-13T09:07:04.120Z"
   },
   {
    "duration": 1447,
    "start_time": "2024-07-13T09:31:22.519Z"
   },
   {
    "duration": 689,
    "start_time": "2024-07-13T17:19:10.878Z"
   },
   {
    "duration": 96,
    "start_time": "2024-07-13T17:19:11.572Z"
   },
   {
    "duration": 21,
    "start_time": "2024-07-13T17:19:11.671Z"
   },
   {
    "duration": 17,
    "start_time": "2024-07-13T17:19:11.695Z"
   },
   {
    "duration": 1379,
    "start_time": "2024-07-13T17:19:11.730Z"
   },
   {
    "duration": 26,
    "start_time": "2024-07-13T17:19:13.112Z"
   },
   {
    "duration": 9,
    "start_time": "2024-07-13T17:19:13.142Z"
   },
   {
    "duration": 10,
    "start_time": "2024-07-13T17:19:13.154Z"
   },
   {
    "duration": 12,
    "start_time": "2024-07-13T17:19:13.167Z"
   },
   {
    "duration": 56,
    "start_time": "2024-07-13T17:19:13.183Z"
   },
   {
    "duration": 198,
    "start_time": "2024-07-13T17:19:13.243Z"
   },
   {
    "duration": 23,
    "start_time": "2024-07-13T17:19:13.445Z"
   },
   {
    "duration": 218,
    "start_time": "2024-07-13T17:19:13.471Z"
   },
   {
    "duration": 169,
    "start_time": "2024-07-13T17:19:13.696Z"
   },
   {
    "duration": 108,
    "start_time": "2024-07-13T17:19:13.868Z"
   },
   {
    "duration": 23,
    "start_time": "2024-07-13T17:19:13.979Z"
   },
   {
    "duration": 29,
    "start_time": "2024-07-13T17:19:14.005Z"
   },
   {
    "duration": 38,
    "start_time": "2024-07-13T17:19:14.037Z"
   },
   {
    "duration": 60,
    "start_time": "2024-07-13T17:19:14.078Z"
   },
   {
    "duration": 8,
    "start_time": "2024-07-13T17:19:14.145Z"
   },
   {
    "duration": 7,
    "start_time": "2024-07-13T17:19:14.156Z"
   },
   {
    "duration": 1353,
    "start_time": "2024-07-13T17:19:14.166Z"
   },
   {
    "duration": 1345,
    "start_time": "2024-07-13T17:19:15.530Z"
   },
   {
    "duration": 1185,
    "start_time": "2024-07-13T17:19:16.878Z"
   },
   {
    "duration": 13,
    "start_time": "2024-07-13T17:19:18.066Z"
   },
   {
    "duration": 11,
    "start_time": "2024-07-13T17:19:18.082Z"
   },
   {
    "duration": 38,
    "start_time": "2024-07-13T17:19:18.096Z"
   },
   {
    "duration": 8,
    "start_time": "2024-07-13T17:19:18.136Z"
   },
   {
    "duration": 16,
    "start_time": "2024-07-13T17:19:18.147Z"
   },
   {
    "duration": 11,
    "start_time": "2024-07-13T17:19:18.166Z"
   },
   {
    "duration": 51,
    "start_time": "2024-07-13T17:19:18.180Z"
   },
   {
    "duration": 31,
    "start_time": "2024-07-13T17:19:18.234Z"
   },
   {
    "duration": 77,
    "start_time": "2024-07-13T17:19:18.268Z"
   },
   {
    "duration": 20,
    "start_time": "2024-07-13T17:19:18.348Z"
   },
   {
    "duration": 543,
    "start_time": "2024-07-13T17:19:18.370Z"
   },
   {
    "duration": 55,
    "start_time": "2024-07-13T17:19:18.916Z"
   },
   {
    "duration": 8,
    "start_time": "2024-07-13T17:19:18.974Z"
   },
   {
    "duration": 4687,
    "start_time": "2024-07-13T17:19:18.987Z"
   },
   {
    "duration": 465,
    "start_time": "2024-07-13T17:19:23.677Z"
   },
   {
    "duration": 550,
    "start_time": "2024-07-13T17:19:24.144Z"
   },
   {
    "duration": 344,
    "start_time": "2024-07-13T17:19:24.702Z"
   },
   {
    "duration": 1818,
    "start_time": "2024-07-13T17:19:25.049Z"
   },
   {
    "duration": 829,
    "start_time": "2024-07-13T17:19:26.870Z"
   },
   {
    "duration": 2568,
    "start_time": "2024-07-13T17:19:27.702Z"
   },
   {
    "duration": 1341,
    "start_time": "2024-07-13T17:19:30.275Z"
   },
   {
    "duration": 424,
    "start_time": "2024-07-13T17:19:31.619Z"
   },
   {
    "duration": 780,
    "start_time": "2024-07-13T17:20:12.488Z"
   },
   {
    "duration": 106,
    "start_time": "2024-07-13T17:20:13.272Z"
   },
   {
    "duration": 18,
    "start_time": "2024-07-13T17:20:13.382Z"
   },
   {
    "duration": 27,
    "start_time": "2024-07-13T17:20:13.403Z"
   },
   {
    "duration": 1311,
    "start_time": "2024-07-13T17:20:13.437Z"
   },
   {
    "duration": 18,
    "start_time": "2024-07-13T17:20:14.751Z"
   },
   {
    "duration": 10,
    "start_time": "2024-07-13T17:20:14.772Z"
   },
   {
    "duration": 9,
    "start_time": "2024-07-13T17:20:14.786Z"
   },
   {
    "duration": 13,
    "start_time": "2024-07-13T17:20:14.832Z"
   },
   {
    "duration": 11,
    "start_time": "2024-07-13T17:20:14.848Z"
   },
   {
    "duration": 204,
    "start_time": "2024-07-13T17:20:14.862Z"
   },
   {
    "duration": 24,
    "start_time": "2024-07-13T17:20:15.069Z"
   },
   {
    "duration": 225,
    "start_time": "2024-07-13T17:20:15.096Z"
   },
   {
    "duration": 202,
    "start_time": "2024-07-13T17:20:15.334Z"
   },
   {
    "duration": 121,
    "start_time": "2024-07-13T17:20:15.542Z"
   },
   {
    "duration": 28,
    "start_time": "2024-07-13T17:20:15.669Z"
   },
   {
    "duration": 32,
    "start_time": "2024-07-13T17:20:15.700Z"
   },
   {
    "duration": 39,
    "start_time": "2024-07-13T17:20:15.735Z"
   },
   {
    "duration": 62,
    "start_time": "2024-07-13T17:20:15.777Z"
   },
   {
    "duration": 14,
    "start_time": "2024-07-13T17:20:15.842Z"
   },
   {
    "duration": 8,
    "start_time": "2024-07-13T17:20:15.860Z"
   },
   {
    "duration": 1390,
    "start_time": "2024-07-13T17:20:15.871Z"
   },
   {
    "duration": 1366,
    "start_time": "2024-07-13T17:20:17.264Z"
   },
   {
    "duration": 1179,
    "start_time": "2024-07-13T17:20:18.634Z"
   },
   {
    "duration": 22,
    "start_time": "2024-07-13T17:20:19.816Z"
   },
   {
    "duration": 12,
    "start_time": "2024-07-13T17:20:19.840Z"
   },
   {
    "duration": 7,
    "start_time": "2024-07-13T17:20:19.856Z"
   },
   {
    "duration": 10,
    "start_time": "2024-07-13T17:20:19.865Z"
   },
   {
    "duration": 55,
    "start_time": "2024-07-13T17:20:19.879Z"
   },
   {
    "duration": 12,
    "start_time": "2024-07-13T17:20:19.937Z"
   },
   {
    "duration": 7,
    "start_time": "2024-07-13T17:20:19.952Z"
   },
   {
    "duration": 70,
    "start_time": "2024-07-13T17:20:19.962Z"
   },
   {
    "duration": 48,
    "start_time": "2024-07-13T17:20:20.035Z"
   },
   {
    "duration": 48,
    "start_time": "2024-07-13T17:20:20.085Z"
   },
   {
    "duration": 538,
    "start_time": "2024-07-13T17:20:20.138Z"
   },
   {
    "duration": 39,
    "start_time": "2024-07-13T17:20:20.679Z"
   },
   {
    "duration": 9,
    "start_time": "2024-07-13T17:20:20.731Z"
   },
   {
    "duration": 950,
    "start_time": "2024-07-13T17:20:20.743Z"
   },
   {
    "duration": 488,
    "start_time": "2024-07-13T17:20:21.696Z"
   },
   {
    "duration": 521,
    "start_time": "2024-07-13T17:20:22.187Z"
   },
   {
    "duration": 352,
    "start_time": "2024-07-13T17:20:22.716Z"
   },
   {
    "duration": 1859,
    "start_time": "2024-07-13T17:20:23.072Z"
   },
   {
    "duration": 787,
    "start_time": "2024-07-13T17:20:24.934Z"
   },
   {
    "duration": 2599,
    "start_time": "2024-07-13T17:20:25.731Z"
   },
   {
    "duration": 2404,
    "start_time": "2024-07-13T17:23:33.565Z"
   },
   {
    "duration": 2113,
    "start_time": "2024-07-13T17:25:20.947Z"
   },
   {
    "duration": 2350,
    "start_time": "2024-07-13T17:25:46.486Z"
   },
   {
    "duration": 2383,
    "start_time": "2024-07-13T17:26:51.291Z"
   },
   {
    "duration": 64019,
    "start_time": "2024-07-13T17:29:17.075Z"
   },
   {
    "duration": 685,
    "start_time": "2024-07-13T17:32:08.981Z"
   },
   {
    "duration": 96,
    "start_time": "2024-07-13T17:32:09.670Z"
   },
   {
    "duration": 16,
    "start_time": "2024-07-13T17:32:09.769Z"
   },
   {
    "duration": 18,
    "start_time": "2024-07-13T17:32:09.787Z"
   },
   {
    "duration": 1370,
    "start_time": "2024-07-13T17:32:09.810Z"
   },
   {
    "duration": 17,
    "start_time": "2024-07-13T17:32:11.183Z"
   },
   {
    "duration": 28,
    "start_time": "2024-07-13T17:32:11.203Z"
   },
   {
    "duration": 9,
    "start_time": "2024-07-13T17:32:11.234Z"
   },
   {
    "duration": 9,
    "start_time": "2024-07-13T17:32:11.246Z"
   },
   {
    "duration": 10,
    "start_time": "2024-07-13T17:32:11.259Z"
   },
   {
    "duration": 232,
    "start_time": "2024-07-13T17:32:11.272Z"
   },
   {
    "duration": 30,
    "start_time": "2024-07-13T17:32:11.507Z"
   },
   {
    "duration": 211,
    "start_time": "2024-07-13T17:32:11.540Z"
   },
   {
    "duration": 196,
    "start_time": "2024-07-13T17:32:11.759Z"
   },
   {
    "duration": 119,
    "start_time": "2024-07-13T17:32:11.958Z"
   },
   {
    "duration": 29,
    "start_time": "2024-07-13T17:32:12.080Z"
   },
   {
    "duration": 28,
    "start_time": "2024-07-13T17:32:12.112Z"
   },
   {
    "duration": 43,
    "start_time": "2024-07-13T17:32:12.143Z"
   },
   {
    "duration": 69,
    "start_time": "2024-07-13T17:32:12.189Z"
   },
   {
    "duration": 9,
    "start_time": "2024-07-13T17:32:12.261Z"
   },
   {
    "duration": 7,
    "start_time": "2024-07-13T17:32:12.273Z"
   },
   {
    "duration": 1376,
    "start_time": "2024-07-13T17:32:12.283Z"
   },
   {
    "duration": 1355,
    "start_time": "2024-07-13T17:32:13.662Z"
   },
   {
    "duration": 1195,
    "start_time": "2024-07-13T17:32:15.020Z"
   },
   {
    "duration": 21,
    "start_time": "2024-07-13T17:32:16.217Z"
   },
   {
    "duration": 10,
    "start_time": "2024-07-13T17:32:16.241Z"
   },
   {
    "duration": 6,
    "start_time": "2024-07-13T17:32:16.255Z"
   },
   {
    "duration": 9,
    "start_time": "2024-07-13T17:32:16.264Z"
   },
   {
    "duration": 57,
    "start_time": "2024-07-13T17:32:16.276Z"
   },
   {
    "duration": 11,
    "start_time": "2024-07-13T17:32:16.336Z"
   },
   {
    "duration": 7,
    "start_time": "2024-07-13T17:32:16.350Z"
   },
   {
    "duration": 77,
    "start_time": "2024-07-13T17:32:16.360Z"
   },
   {
    "duration": 49,
    "start_time": "2024-07-13T17:32:16.440Z"
   },
   {
    "duration": 49,
    "start_time": "2024-07-13T17:32:16.493Z"
   },
   {
    "duration": 522,
    "start_time": "2024-07-13T17:32:16.548Z"
   },
   {
    "duration": 40,
    "start_time": "2024-07-13T17:32:17.072Z"
   },
   {
    "duration": 20,
    "start_time": "2024-07-13T17:32:17.114Z"
   },
   {
    "duration": 945,
    "start_time": "2024-07-13T17:32:17.137Z"
   },
   {
    "duration": 456,
    "start_time": "2024-07-13T17:32:18.085Z"
   },
   {
    "duration": 505,
    "start_time": "2024-07-13T17:32:18.544Z"
   },
   {
    "duration": 340,
    "start_time": "2024-07-13T17:32:19.057Z"
   },
   {
    "duration": 1823,
    "start_time": "2024-07-13T17:32:19.400Z"
   },
   {
    "duration": 825,
    "start_time": "2024-07-13T17:32:21.227Z"
   },
   {
    "duration": 2579,
    "start_time": "2024-07-13T17:32:22.055Z"
   },
   {
    "duration": 12,
    "start_time": "2024-07-13T17:32:27.888Z"
   },
   {
    "duration": 2420,
    "start_time": "2024-07-13T17:32:37.784Z"
   },
   {
    "duration": 3198,
    "start_time": "2024-07-13T17:32:59.462Z"
   },
   {
    "duration": 2234,
    "start_time": "2024-07-13T17:33:43.595Z"
   },
   {
    "duration": 2187,
    "start_time": "2024-07-13T17:34:43.203Z"
   },
   {
    "duration": 3465,
    "start_time": "2024-07-13T17:35:06.338Z"
   },
   {
    "duration": 3761,
    "start_time": "2024-07-13T17:35:22.239Z"
   },
   {
    "duration": 3850,
    "start_time": "2024-07-13T17:36:21.072Z"
   },
   {
    "duration": 2341,
    "start_time": "2024-07-13T17:36:59.108Z"
   },
   {
    "duration": 2190,
    "start_time": "2024-07-13T17:37:12.158Z"
   },
   {
    "duration": 2124,
    "start_time": "2024-07-13T17:37:52.810Z"
   },
   {
    "duration": 2193,
    "start_time": "2024-07-13T17:38:18.945Z"
   },
   {
    "duration": 2124,
    "start_time": "2024-07-13T17:38:25.883Z"
   }
  ],
  "kernelspec": {
   "display_name": "Python 3 (ipykernel)",
   "language": "python",
   "name": "python3"
  },
  "language_info": {
   "codemirror_mode": {
    "name": "ipython",
    "version": 3
   },
   "file_extension": ".py",
   "mimetype": "text/x-python",
   "name": "python",
   "nbconvert_exporter": "python",
   "pygments_lexer": "ipython3",
   "version": "3.12.4"
  },
  "toc": {
   "base_numbering": 1,
   "nav_menu": {},
   "number_sections": true,
   "sideBar": true,
   "skip_h1_title": true,
   "title_cell": "Table of Contents",
   "title_sidebar": "Contents",
   "toc_cell": false,
   "toc_position": {},
   "toc_section_display": true,
   "toc_window_display": false
  },
  "vscode": {
   "interpreter": {
    "hash": "01a7be9ec63e704a62cefc5fe7a4756944464ee731be31632bdf42a4cb4688cf"
   }
  }
 },
 "nbformat": 4,
 "nbformat_minor": 5
}
